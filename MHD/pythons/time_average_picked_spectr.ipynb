{
 "cells": [
  {
   "cell_type": "markdown",
   "id": "a1178fbc-402b-408c-9fcb-ee09630f0a46",
   "metadata": {
    "tags": []
   },
   "source": [
    "# Notebook to generate time averaged Picked spectra.\n",
    "# Title Notebook to generate time averaged Dipolarity.\n",
    "\n",
    "This notebook generates time average and standard deviations of dipolarity. Input file name is defined by\n",
    "[picked sph prefix] l[degree#] m[order#][c/s].dat in the control file"
   ]
  },
  {
   "cell_type": "markdown",
   "id": "6e2d245c-0b97-47b2-b93e-f38f1b023efe",
   "metadata": {
    "tags": []
   },
   "source": [
    "## Initial setup"
   ]
  },
  {
   "cell_type": "code",
   "execution_count": null,
   "id": "ce4ed476-71b8-46c8-b361-9322410156c8",
   "metadata": {},
   "outputs": [],
   "source": [
    "import sys\n",
    "import numpy as np\n",
    "from ctypes import *\n",
    "\n",
    "libname = \"libcalypso_to_pythons.so\""
   ]
  },
  {
   "cell_type": "markdown",
   "id": "983d2d25-e4c6-41e1-bff2-619135ff52ce",
   "metadata": {},
   "source": [
    "Move current directory to directory with data to be averaged"
   ]
  },
  {
   "cell_type": "code",
   "execution_count": null,
   "id": "dd15c2fa-f5ad-4656-98e8-75a6cf3c0db1",
   "metadata": {},
   "outputs": [],
   "source": [
    "cd ./"
   ]
  },
  {
   "cell_type": "markdown",
   "id": "bee617e0-c612-4410-8f23-17b2b09cafd3",
   "metadata": {},
   "source": [
    "Check if shared libraly to load is there"
   ]
  },
  {
   "cell_type": "code",
   "execution_count": null,
   "id": "0029b28e-1105-40ac-af0e-f211f9ed6944",
   "metadata": {
    "tags": []
   },
   "outputs": [],
   "source": [
    "ls -l \"libcalypso_to_pythons.so\""
   ]
  },
  {
   "cell_type": "markdown",
   "id": "1934d1e7-d5be-4147-820c-2efe4014a42f",
   "metadata": {},
   "source": [
    "Load dynamic library to run the program"
   ]
  },
  {
   "cell_type": "code",
   "execution_count": null,
   "id": "03dbf930-019c-4a31-bc1e-4e01e7341970",
   "metadata": {},
   "outputs": [],
   "source": [
    "flib = cdll.LoadLibrary(\"libcalypso_to_pythons.so\")"
   ]
  },
  {
   "cell_type": "markdown",
   "id": "9a1f0148-ad2c-400c-9b3f-5090b6924f5a",
   "metadata": {
    "jp-MarkdownHeadingCollapsed": true,
    "tags": []
   },
   "source": [
    "## Go to data directory"
   ]
  },
  {
   "cell_type": "markdown",
   "id": "7225df03-2f9a-4992-a08b-a08dfd209645",
   "metadata": {},
   "source": [
    "Move current directory to directory with data to be averaged"
   ]
  },
  {
   "cell_type": "code",
   "execution_count": null,
   "id": "0f5eb804-6989-4ac3-9244-1bef3b892382",
   "metadata": {},
   "outputs": [],
   "source": [
    "cd ~/Desktop/sph_shell_275"
   ]
  },
  {
   "cell_type": "markdown",
   "id": "cfddb19d-7ec3-42c4-bc4e-27fa2cbc6a48",
   "metadata": {},
   "source": [
    "Check if data file to be averaged is there"
   ]
  },
  {
   "cell_type": "code",
   "execution_count": null,
   "id": "1de18ee9-1194-4c3d-993c-f199de724f66",
   "metadata": {
    "tags": []
   },
   "outputs": [],
   "source": [
    "ls -l"
   ]
  },
  {
   "cell_type": "markdown",
   "id": "01ea195b-10f7-46f0-b132-47fa5916acf5",
   "metadata": {
    "jp-MarkdownHeadingCollapsed": true,
    "tags": []
   },
   "source": [
    "## Time averaging for volume mean square and average\n",
    "\n",
    "Take time average of [picked sph prefix] l[degree#] m[order#][c/s].dat\n"
   ]
  },
  {
   "cell_type": "markdown",
   "id": "82664ef4-7d8c-4237-a5c4-2f63872d4c25",
   "metadata": {},
   "source": [
    "Set file name to be averaged as file_name, start time as start_time, and end time as end_time."
   ]
  },
  {
   "cell_type": "code",
   "execution_count": null,
   "id": "d268c995-3401-46f0-a1ea-7267ccef88c3",
   "metadata": {},
   "outputs": [],
   "source": [
    "file_name = \"picked_mode.dat\"\n",
    "start_time = 25.0\n",
    "end_time =   30.0"
   ]
  },
  {
   "cell_type": "markdown",
   "id": "40ec9e22-e8b3-4a15-9828-44339526bd5a",
   "metadata": {},
   "source": [
    "Start time average program. \n",
    "time average data will be \"t_ave_[file_name]\",\n",
    "and standard deviation will be \"t_sdev_[file_name]\"."
   ]
  },
  {
   "cell_type": "code",
   "execution_count": null,
   "id": "6bd4b87e-c381-427f-a5ff-40099798cc00",
   "metadata": {},
   "outputs": [],
   "source": [
    "flib.time_ave_picked_sph_spectr_f.restype = c_int\n",
    "flib.time_ave_picked_sph_spectr_f.argtypes = [c_char_p, c_double, c_double]\n",
    "\n",
    "n = flib.time_ave_picked_sph_spectr_f(file_name.encode(), c_double(start_time), c_double(end_time))"
   ]
  },
  {
   "cell_type": "markdown",
   "id": "d72b1baa-ae27-404a-9af1-632b72326f8b",
   "metadata": {
    "jp-MarkdownHeadingCollapsed": true,
    "tags": []
   },
   "source": [
    "## Check obtained data (optional)\n",
    "Check time average (t_ave_[file_name]), root mean square (t_rms_[file_name]), and standard deviation (t_sigma_[file_name])"
   ]
  },
  {
   "cell_type": "code",
   "execution_count": null,
   "id": "1942f010-6ba1-4f78-a309-1ccc35d3ebba",
   "metadata": {},
   "outputs": [],
   "source": [
    "ls"
   ]
  },
  {
   "cell_type": "code",
   "execution_count": null,
   "id": "09c61dde-c333-4928-8e6e-5b7926b70129",
   "metadata": {},
   "outputs": [],
   "source": [
    "average_file = \"t_ave_\" + file_name\n",
    "f = open(average_file, 'r', encoding='UTF-8')\n",
    "data = f.read()\n",
    "print(data)\n",
    "f.close()"
   ]
  },
  {
   "cell_type": "code",
   "execution_count": null,
   "id": "2e4d3ff8-9d33-4a86-9ec9-6e740d7b5e94",
   "metadata": {},
   "outputs": [],
   "source": [
    "average_file = \"t_rms_\" + file_name\n",
    "f = open(average_file, 'r', encoding='UTF-8')\n",
    "data = f.read()\n",
    "print(data)\n",
    "f.close()"
   ]
  },
  {
   "cell_type": "code",
   "execution_count": null,
   "id": "2b0f4d32-b799-424f-84a6-a7920c00f14d",
   "metadata": {},
   "outputs": [],
   "source": [
    "average_file = \"t_sigma_\" + file_name\n",
    "f = open(average_file, 'r', encoding='UTF-8')\n",
    "data = f.read()\n",
    "print(data)\n",
    "f.close()"
   ]
  },
  {
   "cell_type": "code",
   "execution_count": null,
   "id": "39ec34cb-2338-448b-9295-4890e1a02a72",
   "metadata": {},
   "outputs": [],
   "source": []
  }
 ],
 "metadata": {
  "kernelspec": {
   "display_name": "Python 3 (ipykernel)",
   "language": "python",
   "name": "python3"
  },
  "language_info": {
   "codemirror_mode": {
    "name": "ipython",
    "version": 3
   },
   "file_extension": ".py",
   "mimetype": "text/x-python",
   "name": "python",
   "nbconvert_exporter": "python",
   "pygments_lexer": "ipython3",
   "version": "3.10.4"
  }
 },
 "nbformat": 4,
 "nbformat_minor": 5
}
