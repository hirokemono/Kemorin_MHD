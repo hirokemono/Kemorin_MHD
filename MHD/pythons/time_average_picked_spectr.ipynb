{
 "cells": [
  {
   "cell_type": "markdown",
   "id": "a1178fbc-402b-408c-9fcb-ee09630f0a46",
   "metadata": {
    "tags": []
   },
   "source": [
    "# Notebook to generate time averaged Picked spectra.\n",
    "# Title Notebook to generate time averaged Dipolarity.\n",
    "\n",
    "This notebook generates time average and standard deviations of dipolarity. Input file name is defined by\n",
    "[picked sph prefix] l[degree#] m[order#][c/s].dat in the control file"
   ]
  },
  {
   "cell_type": "markdown",
   "id": "6e2d245c-0b97-47b2-b93e-f38f1b023efe",
   "metadata": {
    "tags": []
   },
   "source": [
    "## Initial setup"
   ]
  },
  {
   "cell_type": "code",
   "execution_count": 1,
   "id": "ce4ed476-71b8-46c8-b361-9322410156c8",
   "metadata": {},
   "outputs": [],
   "source": [
    "import sys\n",
    "import numpy as np\n",
    "from ctypes import *\n",
    "\n",
    "libname = \"libcalypso_to_pythons.so\""
   ]
  },
  {
   "cell_type": "markdown",
   "id": "983d2d25-e4c6-41e1-bff2-619135ff52ce",
   "metadata": {},
   "source": [
    "Move current directory to directory with data to be averaged"
   ]
  },
  {
   "cell_type": "code",
   "execution_count": 2,
   "id": "dd15c2fa-f5ad-4656-98e8-75a6cf3c0db1",
   "metadata": {},
   "outputs": [
    {
     "name": "stdout",
     "output_type": "stream",
     "text": [
      "/Volumes/Sources/matsui/Kemorin_MHD/MHD/pythons\n"
     ]
    }
   ],
   "source": [
    "cd ./"
   ]
  },
  {
   "cell_type": "markdown",
   "id": "bee617e0-c612-4410-8f23-17b2b09cafd3",
   "metadata": {},
   "source": [
    "Check if shared libraly to load is there"
   ]
  },
  {
   "cell_type": "code",
   "execution_count": 3,
   "id": "0029b28e-1105-40ac-af0e-f211f9ed6944",
   "metadata": {
    "tags": []
   },
   "outputs": [
    {
     "name": "stdout",
     "output_type": "stream",
     "text": [
      "-rwxr-xr-x  1 matsui  staff  225893 Jun 21 07:35 \u001b[31mlibcalypso_to_pythons.so\u001b[m\u001b[m*\n"
     ]
    }
   ],
   "source": [
    "ls -l \"libcalypso_to_pythons.so\""
   ]
  },
  {
   "cell_type": "markdown",
   "id": "1934d1e7-d5be-4147-820c-2efe4014a42f",
   "metadata": {},
   "source": [
    "Load dynamic library to run the program"
   ]
  },
  {
   "cell_type": "code",
   "execution_count": 4,
   "id": "03dbf930-019c-4a31-bc1e-4e01e7341970",
   "metadata": {},
   "outputs": [],
   "source": [
    "flib = cdll.LoadLibrary(\"libcalypso_to_pythons.so\")"
   ]
  },
  {
   "cell_type": "markdown",
   "id": "9a1f0148-ad2c-400c-9b3f-5090b6924f5a",
   "metadata": {
    "tags": []
   },
   "source": [
    "## Go to data directory"
   ]
  },
  {
   "cell_type": "markdown",
   "id": "7225df03-2f9a-4992-a08b-a08dfd209645",
   "metadata": {},
   "source": [
    "Move current directory to directory with data to be averaged"
   ]
  },
  {
   "cell_type": "code",
   "execution_count": 5,
   "id": "0f5eb804-6989-4ac3-9244-1bef3b892382",
   "metadata": {},
   "outputs": [
    {
     "name": "stdout",
     "output_type": "stream",
     "text": [
      "/Users/matsui/Desktop/sph_shell_275\n"
     ]
    }
   ],
   "source": [
    "cd ~/Desktop/sph_shell_275"
   ]
  },
  {
   "cell_type": "markdown",
   "id": "cfddb19d-7ec3-42c4-bc4e-27fa2cbc6a48",
   "metadata": {},
   "source": [
    "Check if data file to be averaged is there"
   ]
  },
  {
   "cell_type": "code",
   "execution_count": 6,
   "id": "1de18ee9-1194-4c3d-993c-f199de724f66",
   "metadata": {
    "tags": []
   },
   "outputs": [
    {
     "name": "stdout",
     "output_type": "stream",
     "text": [
      "total 1858912\n",
      "-rw-r--r--@ 1 matsui  staff    16168115 Feb  3  2020 Nusselt.dat\n",
      "-rw-r--r--  1 matsui  staff         169 Jun 17 19:35 control_sph_time_average\n",
      "-rw-r--r--  1 matsui  staff           0 Jun 17 22:22 fort.15\n",
      "-rw-r--r--@ 1 matsui  staff    54896170 Feb  3  2020 gauss_coefs_Re.dat\n",
      "-rw-r--r--@ 1 matsui  staff  1678130042 Feb  3  2020 picked_mode.dat\n",
      "-rw-r--r--@ 1 matsui  staff    76516572 Feb  3  2020 sph_ave_volume.dat\n",
      "-rw-r--r--@ 1 matsui  staff    76704980 Feb  3  2020 sph_pwr_volume_s.dat\n",
      "-rw-r--r--  1 matsui  staff      209231 Jun 21 07:22 t_ave_picked_mode.dat\n",
      "-rw-r--r--  1 matsui  staff      285315 Jun 21 07:22 t_rms_picked_mode.dat\n",
      "-rw-r--r--  1 matsui  staff      513567 Jun 21 07:22 t_sigma_picked_mode.dat\n"
     ]
    }
   ],
   "source": [
    "ls -l"
   ]
  },
  {
   "cell_type": "markdown",
   "id": "01ea195b-10f7-46f0-b132-47fa5916acf5",
   "metadata": {
    "tags": []
   },
   "source": [
    "## Time averaging for volume mean square and average\n",
    "\n",
    "Take time average of [picked sph prefix] l[degree#] m[order#][c/s].dat\n"
   ]
  },
  {
   "cell_type": "markdown",
   "id": "82664ef4-7d8c-4237-a5c4-2f63872d4c25",
   "metadata": {},
   "source": [
    "Set file name to be averaged as file_name, start time as start_time, and end time as end_time."
   ]
  },
  {
   "cell_type": "code",
   "execution_count": 7,
   "id": "f35a38bc-8260-47a7-a172-e685ad9e5adc",
   "metadata": {},
   "outputs": [
    {
     "name": "stdout",
     "output_type": "stream",
     "text": [
      " Open file: picked_mode.dat\n",
      " Start step and time:      9748700   19.497399998911199     \n",
      " End step and time:     18800000   37.599999995310803     \n",
      " Saved hermonics mode:\n",
      "           1           0           0\n",
      "           4           1          -1\n",
      "           7           1           0\n",
      "          10           2          -1\n",
      "          13           2           0\n",
      "          16           3           0\n",
      "          19           2          -2\n",
      "          22           3          -2\n",
      "          25           1           1\n",
      "          28           2           1\n",
      "          31           2           2\n",
      "          34           3           2\n",
      " Saved radial points:\n",
      "           1           1  0.53846153846153799     \n",
      "           2         113   1.0384615384615401     \n",
      "           3         225   1.5384615384615401     \n",
      " Saved field names:\n",
      "           1 velocity_pol\n",
      "           2 velocity_tor\n",
      "           3 velocity_pol_dr\n",
      "           4 temperature\n",
      "           5 vorticity_pol\n",
      "           6 vorticity_tor\n",
      "           7 vorticity_pol_dr\n",
      "           8 pressure\n",
      "           9 magnetic_field_pol\n",
      "          10 magnetic_field_tor\n",
      "          11 magnetic_field_pol_dr\n",
      "          12 current_density_pol\n",
      "          13 current_density_tor\n",
      "          14 current_density_pol_dr\n",
      "          15 buoyancy_flux\n",
      "          16 Lorentz_work\n"
     ]
    },
    {
     "data": {
      "text/plain": [
       "4714460160"
      ]
     },
     "execution_count": 7,
     "metadata": {},
     "output_type": "execute_result"
    }
   ],
   "source": [
    "file_name = \"picked_mode.dat\"\n",
    "# Load time average and standard deviation\n",
    "flib.check_picked_sph_spectr_f.restype = c_void_p\n",
    "flib.check_picked_sph_spectr_f.argtypes = [c_char_p]\n",
    "\n",
    "flib.check_picked_sph_spectr_f(file_name.encode())"
   ]
  },
  {
   "cell_type": "markdown",
   "id": "40ec9e22-e8b3-4a15-9828-44339526bd5a",
   "metadata": {},
   "source": [
    "Start time average program. \n",
    "time average data will be \"t_ave_[file_name]\",\n",
    "and standard deviation will be \"t_sdev_[file_name]\"."
   ]
  },
  {
   "cell_type": "code",
   "execution_count": 8,
   "id": "6bd4b87e-c381-427f-a5ff-40099798cc00",
   "metadata": {},
   "outputs": [
    {
     "name": "stdout",
     "output_type": "stream",
     "text": [
      " Open file: picked_mode.dat\n",
      "#\n",
      "# num_layers, num_spectr\n",
      "               3              12              36\n",
      "# number of component\n",
      "              16\n",
      "#   Start and end time\n",
      "       2.500019999479E+01       3.000019999105E+01\n",
      "#\n",
      "# num_layers, num_spectr\n",
      "               3              12              36\n",
      "# number of component\n",
      "              16\n",
      "#   Start and end time\n",
      "       2.500019999479E+01       3.000019999105E+01\n",
      "#\n",
      "# num_layers, num_spectr\n",
      "               3              12              36\n",
      "# number of component\n",
      "              16\n",
      "#   Start and end time\n",
      "       2.500019999479E+01       3.000019999105E+01\n"
     ]
    }
   ],
   "source": [
    "start_time = 25.0\n",
    "end_time =   30.0\n",
    "\n",
    "flib.time_ave_picked_sph_spectr_f.restype = c_int\n",
    "flib.time_ave_picked_sph_spectr_f.argtypes = [c_char_p, c_double, c_double]\n",
    "\n",
    "n = flib.time_ave_picked_sph_spectr_f(file_name.encode(), c_double(start_time), c_double(end_time))"
   ]
  },
  {
   "cell_type": "markdown",
   "id": "d72b1baa-ae27-404a-9af1-632b72326f8b",
   "metadata": {
    "jp-MarkdownHeadingCollapsed": true,
    "tags": []
   },
   "source": [
    "## Check obtained data (optional)\n",
    "Check time average (t_ave_[file_name]), root mean square (t_rms_[file_name]), and standard deviation (t_sigma_[file_name])"
   ]
  },
  {
   "cell_type": "code",
   "execution_count": null,
   "id": "1942f010-6ba1-4f78-a309-1ccc35d3ebba",
   "metadata": {},
   "outputs": [],
   "source": [
    "ls"
   ]
  },
  {
   "cell_type": "code",
   "execution_count": null,
   "id": "09c61dde-c333-4928-8e6e-5b7926b70129",
   "metadata": {},
   "outputs": [],
   "source": [
    "average_file = \"t_ave_\" + file_name\n",
    "f = open(average_file, 'r', encoding='UTF-8')\n",
    "data = f.read()\n",
    "print(data)\n",
    "f.close()"
   ]
  },
  {
   "cell_type": "code",
   "execution_count": null,
   "id": "2e4d3ff8-9d33-4a86-9ec9-6e740d7b5e94",
   "metadata": {},
   "outputs": [],
   "source": [
    "average_file = \"t_rms_\" + file_name\n",
    "f = open(average_file, 'r', encoding='UTF-8')\n",
    "data = f.read()\n",
    "print(data)\n",
    "f.close()"
   ]
  },
  {
   "cell_type": "code",
   "execution_count": null,
   "id": "2b0f4d32-b799-424f-84a6-a7920c00f14d",
   "metadata": {},
   "outputs": [],
   "source": [
    "average_file = \"t_sigma_\" + file_name\n",
    "f = open(average_file, 'r', encoding='UTF-8')\n",
    "data = f.read()\n",
    "print(data)\n",
    "f.close()"
   ]
  },
  {
   "cell_type": "code",
   "execution_count": null,
   "id": "39ec34cb-2338-448b-9295-4890e1a02a72",
   "metadata": {},
   "outputs": [],
   "source": []
  }
 ],
 "metadata": {
  "kernelspec": {
   "display_name": "Python 3 (ipykernel)",
   "language": "python",
   "name": "python3"
  },
  "language_info": {
   "codemirror_mode": {
    "name": "ipython",
    "version": 3
   },
   "file_extension": ".py",
   "mimetype": "text/x-python",
   "name": "python",
   "nbconvert_exporter": "python",
   "pygments_lexer": "ipython3",
   "version": "3.10.4"
  }
 },
 "nbformat": 4,
 "nbformat_minor": 5
}
