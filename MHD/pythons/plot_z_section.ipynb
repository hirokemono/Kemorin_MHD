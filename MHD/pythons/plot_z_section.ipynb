{
 "cells": [
  {
   "cell_type": "markdown",
   "id": "a1178fbc-402b-408c-9fcb-ee09630f0a46",
   "metadata": {
    "tags": []
   },
   "source": [
    "# Simple plot for cross sections with z = constant\n",
    "\n",
    "This notebook generates plot of z-constant sections. The imput data file name is  [sectio_prefix].[step #].[sectio_extention]"
   ]
  },
  {
   "cell_type": "markdown",
   "id": "f8d1ab2e-a78f-4b41-af9c-3735859a3c69",
   "metadata": {
    "tags": []
   },
   "source": [
    "## Initial setup"
   ]
  },
  {
   "cell_type": "code",
   "execution_count": 1,
   "id": "ce4ed476-71b8-46c8-b361-9322410156c8",
   "metadata": {},
   "outputs": [],
   "source": [
    "import sys\n",
    "import numpy as np\n",
    "import ipywidgets as widgets\n",
    "import matplotlib.pyplot as plt\n",
    "import matplotlib.tri as mtri\n",
    "\n",
    "from ctypes import *"
   ]
  },
  {
   "cell_type": "markdown",
   "id": "983d2d25-e4c6-41e1-bff2-619135ff52ce",
   "metadata": {},
   "source": [
    "Move current directory to directory with data to be averaged"
   ]
  },
  {
   "cell_type": "code",
   "execution_count": 2,
   "id": "dd15c2fa-f5ad-4656-98e8-75a6cf3c0db1",
   "metadata": {},
   "outputs": [
    {
     "name": "stdout",
     "output_type": "stream",
     "text": [
      "/Volumes/Sources/matsui/Kemorin_MHD/MHD/pythons\n"
     ]
    }
   ],
   "source": [
    "%cd ./"
   ]
  },
  {
   "cell_type": "markdown",
   "id": "bee617e0-c612-4410-8f23-17b2b09cafd3",
   "metadata": {},
   "source": [
    "Check if shared libraly to load is there"
   ]
  },
  {
   "cell_type": "code",
   "execution_count": 3,
   "id": "0029b28e-1105-40ac-af0e-f211f9ed6944",
   "metadata": {
    "tags": []
   },
   "outputs": [
    {
     "name": "stdout",
     "output_type": "stream",
     "text": [
      "-rwxr-xr-x  1 matsui  staff  782165 Jun 21 14:05 \u001b[31mlibcalypso_to_pythons.so\u001b[m\u001b[m*\n"
     ]
    }
   ],
   "source": [
    "%ls -l \"libcalypso_to_pythons.so\""
   ]
  },
  {
   "cell_type": "markdown",
   "id": "1934d1e7-d5be-4147-820c-2efe4014a42f",
   "metadata": {},
   "source": [
    "Load dynamic library to run the program"
   ]
  },
  {
   "cell_type": "code",
   "execution_count": 4,
   "id": "03dbf930-019c-4a31-bc1e-4e01e7341970",
   "metadata": {},
   "outputs": [],
   "source": [
    "libname = \"libcalypso_to_pythons.so\"\n",
    "flib = cdll.LoadLibrary(libname)"
   ]
  },
  {
   "cell_type": "markdown",
   "id": "d801ff38-9af6-48fa-9111-42b3f758066c",
   "metadata": {
    "tags": []
   },
   "source": [
    "## Go to data directory"
   ]
  },
  {
   "cell_type": "markdown",
   "id": "7225df03-2f9a-4992-a08b-a08dfd209645",
   "metadata": {},
   "source": [
    "Move current directory to directory with data to be averaged"
   ]
  },
  {
   "cell_type": "code",
   "execution_count": 5,
   "id": "0f5eb804-6989-4ac3-9244-1bef3b892382",
   "metadata": {},
   "outputs": [
    {
     "name": "stdout",
     "output_type": "stream",
     "text": [
      "/Users/matsui/Desktop/sph_shell_197/psf\n"
     ]
    }
   ],
   "source": [
    "cd ~/Desktop/sph_shell_197/psf"
   ]
  },
  {
   "cell_type": "markdown",
   "id": "cfddb19d-7ec3-42c4-bc4e-27fa2cbc6a48",
   "metadata": {},
   "source": [
    "Check if data file to be averaged is there"
   ]
  },
  {
   "cell_type": "code",
   "execution_count": 6,
   "id": "1de18ee9-1194-4c3d-993c-f199de724f66",
   "metadata": {
    "tags": []
   },
   "outputs": [
    {
     "name": "stdout",
     "output_type": "stream",
     "text": [
      "total 133588\n",
      "-rw-r--r--  1 matsui  staff     4904 Jun 21 12:27 area_ave_psf_cmb.dat\n",
      "-rw-r--r--  1 matsui  staff     4344 Jun 21 12:27 area_max_psf_cmb.dat\n",
      "-rw-r--r--  1 matsui  staff     4344 Jun 21 12:27 area_min_psf_cmb.dat\n",
      "-rw-r--r--  1 matsui  staff     4904 Jun 21 12:27 area_rms_psf_cmb.dat\n",
      "-rw-r--r--  1 matsui  staff     4904 Jun 21 12:27 area_sdev_psf_cmb.dat\n",
      "-rw-rw-r--  1 matsui  staff  1275536 Aug  8  2017 psf_cmb.0.grd.gz\n",
      "-rw-rw-r--  1 matsui  staff  2350744 Jul 31  2017 psf_cmb.500.udt.gz\n",
      "-rw-rw-r--  1 matsui  staff  2350796 Aug  1  2017 psf_cmb.501.udt.gz\n",
      "-rw-rw-r--  1 matsui  staff  2350531 Aug  1  2017 psf_cmb.502.udt.gz\n",
      "-rw-rw-r--  1 matsui  staff  2349980 Aug  1  2017 psf_cmb.503.udt.gz\n",
      "-rw-rw-r--  1 matsui  staff  2348802 Aug  1  2017 psf_cmb.504.udt.gz\n",
      "-rw-rw-r--  1 matsui  staff  2348498 Aug  1  2017 psf_cmb.505.udt.gz\n",
      "-rw-rw-r--  1 matsui  staff  2349560 Aug  1  2017 psf_cmb.506.udt.gz\n",
      "-rw-rw-r--  1 matsui  staff  2348557 Aug  1  2017 psf_cmb.507.udt.gz\n",
      "-rw-rw-r--  1 matsui  staff  2347648 Aug  1  2017 psf_cmb.508.udt.gz\n",
      "-rw-rw-r--  1 matsui  staff  2348840 Aug  1  2017 psf_cmb.509.udt.gz\n",
      "-rw-rw-r--  1 matsui  staff  2349978 Aug  1  2017 psf_cmb.510.udt.gz\n",
      "-rw-rw-r--  1 matsui  staff  2350318 Aug  1  2017 psf_cmb.511.udt.gz\n",
      "-rw-rw-r--  1 matsui  staff  2349793 Aug  1  2017 psf_cmb.512.udt.gz\n",
      "-rw-rw-r--  1 matsui  staff  2350424 Aug  1  2017 psf_cmb.513.udt.gz\n",
      "-rw-rw-r--  1 matsui  staff  2349949 Aug  1  2017 psf_cmb.514.udt.gz\n",
      "-rw-rw-r--  1 matsui  staff  2351139 Aug  1  2017 psf_cmb.515.udt.gz\n",
      "-rw-rw-r--  1 matsui  staff  2350824 Aug  1  2017 psf_cmb.516.udt.gz\n",
      "-rw-rw-r--  1 matsui  staff  2350529 Aug  1  2017 psf_cmb.517.udt.gz\n",
      "-rw-rw-r--  1 matsui  staff  2351992 Aug  1  2017 psf_cmb.518.udt.gz\n",
      "-rw-rw-r--  1 matsui  staff  2351126 Aug  1  2017 psf_cmb.519.udt.gz\n",
      "-rw-rw-r--  1 matsui  staff  2349581 Aug  1  2017 psf_cmb.520.udt.gz\n",
      "-rw-rw-r--  1 matsui  staff   896942 Aug  8  2017 psf_z0.3.0.grd.gz\n",
      "-rw-rw-r--  1 matsui  staff  3285974 Jul 31  2017 psf_z0.3.500.udt.gz\n",
      "-rw-rw-r--  1 matsui  staff  3288221 Aug  1  2017 psf_z0.3.501.udt.gz\n",
      "-rw-rw-r--  1 matsui  staff  3289620 Aug  1  2017 psf_z0.3.502.udt.gz\n",
      "-rw-rw-r--  1 matsui  staff  3290555 Aug  1  2017 psf_z0.3.503.udt.gz\n",
      "-rw-rw-r--  1 matsui  staff  3285965 Aug  1  2017 psf_z0.3.504.udt.gz\n",
      "-rw-rw-r--  1 matsui  staff  3284022 Aug  1  2017 psf_z0.3.505.udt.gz\n",
      "-rw-rw-r--  1 matsui  staff  3284569 Aug  1  2017 psf_z0.3.506.udt.gz\n",
      "-rw-rw-r--  1 matsui  staff  3285589 Aug  1  2017 psf_z0.3.507.udt.gz\n",
      "-rw-rw-r--  1 matsui  staff  3284822 Aug  1  2017 psf_z0.3.508.udt.gz\n",
      "-rw-rw-r--  1 matsui  staff  3287143 Aug  1  2017 psf_z0.3.509.udt.gz\n",
      "-rw-rw-r--@ 1 matsui  staff  3285730 Aug  1  2017 psf_z0.3.510.udt.gz\n",
      "-rw-rw-r--  1 matsui  staff  3287057 Aug  1  2017 psf_z0.3.511.udt.gz\n",
      "-rw-rw-r--  1 matsui  staff  3285747 Aug  1  2017 psf_z0.3.512.udt.gz\n",
      "-rw-rw-r--  1 matsui  staff  3287192 Aug  1  2017 psf_z0.3.513.udt.gz\n",
      "-rw-rw-r--  1 matsui  staff  3289708 Aug  1  2017 psf_z0.3.514.udt.gz\n",
      "-rw-rw-r--  1 matsui  staff  3288095 Aug  1  2017 psf_z0.3.515.udt.gz\n",
      "-rw-rw-r--  1 matsui  staff  3288812 Aug  1  2017 psf_z0.3.516.udt.gz\n",
      "-rw-rw-r--  1 matsui  staff  3287335 Aug  1  2017 psf_z0.3.517.udt.gz\n",
      "-rw-rw-r--  1 matsui  staff  3288433 Aug  1  2017 psf_z0.3.518.udt.gz\n",
      "-rw-rw-r--  1 matsui  staff  3286746 Aug  1  2017 psf_z0.3.519.udt.gz\n",
      "-rw-rw-r--  1 matsui  staff  3285239 Aug  1  2017 psf_z0.3.520.udt.gz\n",
      "-rw-r--r--  1 matsui  staff  1275536 Jun 21 12:27 time_ave_psf_cmb.500.0.grd.gz\n",
      "-rw-r--r--  1 matsui  staff  2337754 Jun 21 12:27 time_ave_psf_cmb.500.510.udt.gz\n",
      "-rw-r--r--  1 matsui  staff  1275536 Jun 21 12:27 time_dev_psf_cmb.500.0.grd.gz\n",
      "-rw-r--r--  1 matsui  staff  2311331 Jun 21 12:27 time_dev_psf_cmb.500.510.udt.gz\n",
      "-rw-r--r--  1 matsui  staff  1275536 Jun 21 12:27 time_rms_psf_cmb.500.0.grd.gz\n",
      "-rw-r--r--  1 matsui  staff  2236035 Jun 21 12:27 time_rms_psf_cmb.500.510.udt.gz\n"
     ]
    }
   ],
   "source": [
    "ls -l"
   ]
  },
  {
   "cell_type": "markdown",
   "id": "c1f91240-d02c-41e3-9b84-3f404e43b70b",
   "metadata": {
    "tags": []
   },
   "source": [
    "## Set file name to read and check the avaiable Gauss coefficient modes\n",
    "The file name is defined by [file_name]. The beginning part of the data file [file_name] is read and listed field or component names to be stored."
   ]
  },
  {
   "cell_type": "code",
   "execution_count": 7,
   "id": "402b9498-5d25-4330-9227-6599c46f66ae",
   "metadata": {},
   "outputs": [
    {
     "name": "stdout",
     "output_type": "stream",
     "text": [
      " input_file_name: psf_z0.3.510.udt.gz\n",
      " prefix without step: psf_z0.3\n",
      " Firmat ID:           23\n",
      " Read step:          510\n"
     ]
    }
   ],
   "source": [
    "file_name = \"psf_z0.3.510.udt.gz\"\n",
    "# Check time range and modes in data file\n",
    "flib.check_section_file_f.restype = c_int\n",
    "flib.check_section_file_f.argtypes = [c_char_p]\n",
    "\n",
    "istep_input = flib.check_section_file_f(file_name.encode())"
   ]
  },
  {
   "cell_type": "code",
   "execution_count": 8,
   "id": "7fc7eb3b-89a6-4829-a39e-0b7021af9b3d",
   "metadata": {},
   "outputs": [
    {
     "name": "stdout",
     "output_type": "stream",
     "text": [
      "# of node and element:  Index, # of componentns, field_name\n",
      "           1           1 temperature\n",
      "           2           3 velocity_cyl\n",
      "           3           3 vorticity_cyl\n",
      "           4           3 magnetic_field_cyl\n",
      "           5           1 Lorentz_work\n",
      "           6           1 buoyancy_flux\n",
      " [33120] [65664]\n"
     ]
    }
   ],
   "source": [
    "n_nod = np.zeros((1),dtype=np.int32)\n",
    "n_ele = np.zeros((1),dtype=np.int32)\n",
    "# Load time series of the Gauss coefficients\n",
    "flib.load_section_file_f.restype = c_int\n",
    "flib.load_section_file_f.argtypes = [c_int, np.ctypeslib.ndpointer(dtype=np.int32),\n",
    "                                     np.ctypeslib.ndpointer(dtype=np.int32)]\n",
    "\n",
    "ierr = flib.load_section_file_f(c_int(istep_input), n_nod, n_ele)\n",
    "print(\"# of node and element: \", n_nod, n_ele)"
   ]
  },
  {
   "cell_type": "markdown",
   "id": "65073fee-3d17-4baa-a9c8-23712e8eb5e6",
   "metadata": {
    "tags": []
   },
   "source": [
    "## Make a time evolution plot\n",
    "The each time series data are expanded into each_series, and plotted into the line plot.\n",
    "Please upgreade to more beautiful plot by yourself."
   ]
  },
  {
   "cell_type": "code",
   "execution_count": 12,
   "id": "2f8e5c49-7752-4bd3-a3a3-20270616d5fd",
   "metadata": {},
   "outputs": [
    {
     "name": "stdout",
     "output_type": "stream",
     "text": [
      "[[    1     6     0]\n",
      " [    0     6     5]\n",
      " [    2     7     1]\n",
      " ...\n",
      " [33117 31970 31969]\n",
      " [33119 31971 33118]\n",
      " [33118 31971 31970]]\n"
     ]
    }
   ],
   "source": [
    "id_field = 1\n",
    "id_comp =  1\n",
    "\n",
    "x_psf =  np.zeros((n_nod),dtype=np.float64)\n",
    "y_psf =  np.zeros((n_nod),dtype=np.float64)\n",
    "ie_psf = np.zeros((3*n_ele),dtype=np.int32)\n",
    "scalar_psf = np.zeros((n_nod),dtype=np.float64)\n",
    "\n",
    "\n",
    "# Load patch data\n",
    "flib.get_xy_section_patch_f.restype = c_int\n",
    "flib.get_xy_section_patch_f.argtypes = [c_int, c_int, np.ctypeslib.ndpointer(dtype=np.float64),\n",
    "                                        np.ctypeslib.ndpointer(dtype=np.float64), \n",
    "                                        np.ctypeslib.ndpointer(dtype=np.int32)]\n",
    "\n",
    "ierr = flib.get_xy_section_patch_f(c_int(n_nod[0]), c_int(n_ele[0]), x_psf, y_psf, ie_psf)\n",
    "\n",
    "# Load scalar data\n",
    "flib.get_scalar_section_data_f.restype = c_int\n",
    "flib.get_scalar_section_data_f.argtypes = [c_int, c_int, c_int,\n",
    "                                     np.ctypeslib.ndpointer(dtype=np.float64)]\n",
    "\n",
    "ierr = flib.get_scalar_section_data_f(c_int(n_nod[0]), c_int(id_field), c_int(id_comp), scalar_psf)\n",
    "\n",
    "\n",
    "print(ie_psf.reshape(-1,3))"
   ]
  },
  {
   "cell_type": "code",
   "execution_count": 14,
   "id": "069a1878-2844-47b5-9941-de6d41435d3f",
   "metadata": {},
   "outputs": [
    {
     "data": {
      "text/plain": [
       "<matplotlib.colorbar.Colorbar at 0x1342f96f0>"
      ]
     },
     "execution_count": 14,
     "metadata": {},
     "output_type": "execute_result"
    },
    {
     "data": {
      "image/png": "[encoded data removed]",
      "text/plain": [
       "<Figure size 432x288 with 2 Axes>"
      ]
     },
     "metadata": {
      "needs_background": "light"
     },
     "output_type": "display_data"
    }
   ],
   "source": [
    "triang = mtri.Triangulation(x_psf, y_psf, ie_psf.reshape(-1,3))\n",
    "fig, ax = plt.subplots(nrows=1, ncols=1)\n",
    "ax.set_aspect('equal')\n",
    "tpc = ax.tripcolor(triang, scalar_psf, vmin=-0, vmax=1, \n",
    "                   shading='flat')\n",
    "fig.colorbar(tpc)"
   ]
  },
  {
   "cell_type": "code",
   "execution_count": 11,
   "id": "295acdab-5048-4302-998a-8568e90ecbe4",
   "metadata": {},
   "outputs": [],
   "source": [
    "# Load time series of the Gauss coefficients\n",
    "flib.finalize_section_data_f.restype = c_int\n",
    "flib.finalize_section_data_f.argtypes = [c_int]\n",
    "\n",
    "ierr = flib.finalize_section_data_f"
   ]
  },
  {
   "cell_type": "code",
   "execution_count": null,
   "id": "5184e9bf-fcc4-456b-ae84-0a2bebf8e28b",
   "metadata": {},
   "outputs": [],
   "source": []
  }
 ],
 "metadata": {
  "kernelspec": {
   "display_name": "Python 3 (ipykernel)",
   "language": "python",
   "name": "python3"
  },
  "language_info": {
   "codemirror_mode": {
    "name": "ipython",
    "version": 3
   },
   "file_extension": ".py",
   "mimetype": "text/x-python",
   "name": "python",
   "nbconvert_exporter": "python",
   "pygments_lexer": "ipython3",
   "version": "3.10.4"
  }
 },
 "nbformat": 4,
 "nbformat_minor": 5
}
