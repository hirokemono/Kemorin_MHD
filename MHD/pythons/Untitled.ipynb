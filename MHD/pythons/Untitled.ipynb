{
 "cells": [
  {
   "cell_type": "code",
   "execution_count": 1,
   "id": "0f2485af-d1c2-4a20-9824-82a47d841ca0",
   "metadata": {},
   "outputs": [],
   "source": [
    "import sys\n",
    "import numpy as np\n",
    "import ipywidgets as widgets\n",
    "import matplotlib.pyplot as plt\n",
    "import ctypes"
   ]
  },
  {
   "cell_type": "code",
   "execution_count": 2,
   "id": "1a7ccab0-7774-4e0f-a6f0-c720f4907087",
   "metadata": {},
   "outputs": [
    {
     "name": "stdout",
     "output_type": "stream",
     "text": [
      "/Volumes/Sources/matsui/Kemorin_MHD/MHD/pythons\n"
     ]
    }
   ],
   "source": [
    "%cd ./"
   ]
  },
  {
   "cell_type": "code",
   "execution_count": 3,
   "id": "a655d3ee-2955-4866-9543-0d8d9239107e",
   "metadata": {},
   "outputs": [
    {
     "name": "stdout",
     "output_type": "stream",
     "text": [
      "-rwxr-xr-x  1 matsui  staff  3079541 Jun 23 08:35 \u001b[31mlibcalypso_to_pythons.so\u001b[m\u001b[m*\n"
     ]
    }
   ],
   "source": [
    "%ls -l \"libcalypso_to_pythons.so\""
   ]
  },
  {
   "cell_type": "code",
   "execution_count": 4,
   "id": "048a22de-cbee-4de1-be3d-28c5aa80ebb2",
   "metadata": {},
   "outputs": [],
   "source": [
    "libname = \"libcalypso_to_pythons.so\"\n",
    "flib = ctypes.cdll.LoadLibrary(libname)"
   ]
  },
  {
   "cell_type": "code",
   "execution_count": 5,
   "id": "0526f46a-9547-4fc8-8705-e79b6c05c548",
   "metadata": {},
   "outputs": [
    {
     "name": "stdout",
     "output_type": "stream",
     "text": [
      "/Users/matsui/Desktop/tako\n"
     ]
    }
   ],
   "source": [
    "cd ~/Desktop/tako/"
   ]
  },
  {
   "cell_type": "code",
   "execution_count": 6,
   "id": "aac83cc5-287b-4b1f-b0cc-bbc91db7afb7",
   "metadata": {},
   "outputs": [
    {
     "name": "stdout",
     "output_type": "stream",
     "text": [
      " MHD_ctl_name   control_MHD\n",
      "!   Control for spherical_shell_ctl is read from file... control_resolution\n",
      "!   Control for surface_rendering No.    1 is read from file ... controls/ctl_psf_cmb\n",
      "!     Control for surface_define is read from ... controls/ctl_section_CMB\n",
      "!     Control for output_field_define is included.\n",
      "!   Control for surface_rendering No.    2 is read from file ... controls/ctl_psf_icb\n",
      "!     Control for surface_define is included.\n",
      "!     Control for output_field_define is included.\n",
      "!   Control for surface_rendering No.    3 is read from file ... controls/ctl_psf_z0\n",
      "!     Control for surface_define is included.\n",
      "!     Control for output_field_define is included.\n",
      "!   Control for surface_rendering No.    4 is read from file ... controls/ctl_psf_z0.3\n",
      "!     Control for surface_define is included.\n",
      "!     Control for output_field_define is included.\n",
      "!   Control for surface_rendering No.    5 is read from file ... controls/ctl_psf_z1.0\n",
      "!     Control for surface_define is included.\n",
      "!     Control for output_field_define is included.\n",
      "!   Control for map_rendering_ctl No.    1 is read file from ... controls/ctl_map_cmb_Br\n",
      "!     Control for section_ctl is read from ... controls/ctl_section_CMB\n",
      "!     Control for map_projection_ctl is read from ... controls/control_map_view\n",
      "!   Control for map_rendering_ctl No.    2 is read file from ... controls/ctl_map_cmb_T\n",
      "!     Control for section_ctl is read from ... controls/ctl_section_CMB\n",
      "!     Control for map_projection_ctl is read from ... controls/control_map_view\n",
      "!   Control for map_rendering_ctl No.    3 is read file from ... controls/ctl_map_cmb_filter_Br\n",
      "!     Control for section_ctl is read from ... controls/ctl_section_CMB\n",
      "!     Control for map_projection_ctl is read from ... controls/control_map_view\n",
      "!   Control for volume_rendering No.    1 is read from controls/ctl_pvr_temp\n",
      "!     Control for pvr_color_ctl is read from file... controls/ctl_colormap_temp\n",
      "!     Control for lighting_ctl is read from file... controls/ctl_light_setting\n",
      "!     Control for view_transform_ctl is read from ... controls/control_view\n",
      "!   Control for volume_rendering No.    2 is read from controls/ctl_pvr_Bmag\n",
      "!     Control for pvr_color_ctl is read from file... controls/ctl_colormap_Bmag\n",
      "!     Control for lighting_ctl is read from file... controls/ctl_light_setting\n",
      "!     Control for view_transform_ctl is read from ... controls/control_view\n",
      "!   Control for volume_rendering No.    3 is read from controls/ctl_pvr_wz\n",
      "!     Control for section_ctl No.    1 is included.\n",
      "!     Control for lighting_ctl is read from file... controls/ctl_light_setting\n",
      "!     Control for view_transform_ctl is read from ... controls/control_view\n",
      "!   Control for volume_rendering No.    4 is read from controls/ctl_pvr_vr\n",
      "!     Control for section_ctl No.    1 is included.\n",
      "!     Control for lighting_ctl is read from file... controls/ctl_light_setting\n",
      "!     Control for view_transform_ctl is read from ... controls/control_view\n",
      "!   Control for volume_rendering No.    5 is read from controls/ctl_pvr_Tpole\n",
      "!     Control for pvr_color_ctl is read from file... controls/ctl_colormap_temp\n",
      "!     Control for lighting_ctl is read from file... controls/ctl_light_setting\n",
      "!     Control for view_transform_ctl is read from ... controls/control_pole\n",
      "!   Control for volume_rendering No.    6 is read from controls/ctl_pvr_Bpole\n",
      "!     Control for pvr_color_ctl is read from file... controls/ctl_colormap_Bmag\n",
      "!     Control for lighting_ctl is read from file... controls/ctl_light_setting\n",
      "!     Control for view_transform_ctl is read from ... controls/control_pole\n",
      "!   Control for volume_rendering No.    7 is read from controls/ctl_pvr_Bz\n",
      "!     Control for section_ctl No.    1 is included.\n",
      "!     Control for lighting_ctl is read from file... controls/ctl_light_setting\n",
      "!     Control for view_transform_ctl is read from ... controls/control_view\n",
      "!   Control for zonal_mean_section_ctl No.    1 is read from file ... controls/ctl_zm_y0\n",
      "!     Control for surface_define is read from ... controls/ctl_section_zm\n",
      "!     Control for output_field_define is included.\n",
      "!   Control for zonal_mean_rendering_ctl No.    1 is read file from ... controls/ctl_zm_yz_magne\n",
      "!     Control for section_ctl is read from ... controls/ctl_section_zm\n",
      "!     Control for map_projection_ctl is read from ... controls/control_zm_view\n",
      "!   Control for zonal_mean_rendering_ctl No.    2 is read file from ... controls/ctl_zm_yz_velo\n",
      "!     Control for section_ctl is read from ... controls/ctl_section_zm\n",
      "!     Control for map_projection_ctl is read from ... controls/control_zm_view\n"
     ]
    },
    {
     "data": {
      "text/plain": [
       "4580295440"
      ]
     },
     "execution_count": 6,
     "metadata": {},
     "output_type": "execute_result"
    }
   ],
   "source": [
    "file_name = \"control_MHD\"\n",
    "MHD_Ptr = ctypes.POINTER(ctypes.c_void_p)()\n",
    "\n",
    "# Load time average and standard deviation\n",
    "flib.c_read_control_sph_SGS_MHD.restype = ctypes.c_void_p\n",
    "flib.c_read_control_sph_SGS_MHD.argtypes = [ctypes.c_char_p]\n",
    "\n",
    "flib.c_read_control_sph_SGS_MHD(file_name.encode())"
   ]
  },
  {
   "cell_type": "code",
   "execution_count": 7,
   "id": "91486501-d180-4e40-bf00-0963ba94bb9b",
   "metadata": {},
   "outputs": [
    {
     "name": "stdout",
     "output_type": "stream",
     "text": [
      " select data_files_def                                                                                                                                                                                                                                                 \n"
     ]
    },
    {
     "data": {
      "text/plain": [
       "0"
      ]
     },
     "execution_count": 7,
     "metadata": {},
     "output_type": "execute_result"
    }
   ],
   "source": [
    "block_name = \"data_files_def\"\n",
    "flib.set_current_item.restype = ctypes.c_int\n",
    "flib.set_current_item.argtypes = [ctypes.c_char_p]\n",
    "\n",
    "flib.set_current_item(block_name.encode())"
   ]
  },
  {
   "cell_type": "code",
   "execution_count": null,
   "id": "6df7d493-ace7-40cf-8fd2-54142f1073dd",
   "metadata": {},
   "outputs": [],
   "source": [
    "block_name = \"data_files_def\"\n",
    "flag = 0\n",
    "flib.set_current_item.restype = ctypes.c_int\n",
    "flib.set_current_item.argtypes = [ctypes.c_char_p, ctypes.c_int]\n",
    "\n",
    "flib.set_block_flag(block_name.encode(), flag)"
   ]
  },
  {
   "cell_type": "code",
   "execution_count": 1,
   "id": "64a70e26-ebf4-41e1-988e-3b643c3114ed",
   "metadata": {},
   "outputs": [
    {
     "ename": "NameError",
     "evalue": "name 'MHD_bl_Ptr' is not defined",
     "output_type": "error",
     "traceback": [
      "\u001b[0;31m---------------------------------------------------------------------------\u001b[0m",
      "\u001b[0;31mNameError\u001b[0m                                 Traceback (most recent call last)",
      "Input \u001b[0;32mIn [1]\u001b[0m, in \u001b[0;36m<cell line: 1>\u001b[0;34m()\u001b[0m\n\u001b[0;32m----> 1\u001b[0m \u001b[38;5;28mprint\u001b[39m(\u001b[38;5;28mid\u001b[39m(\u001b[43mMHD_bl_Ptr\u001b[49m))\n",
      "\u001b[0;31mNameError\u001b[0m: name 'MHD_bl_Ptr' is not defined"
     ]
    }
   ],
   "source": [
    "print(id(MHD_bl_Ptr))\n",
    "\n"
   ]
  },
  {
   "cell_type": "code",
   "execution_count": 13,
   "id": "9876d066-7dc8-4c82-9e39-2bb204f3f7f5",
   "metadata": {},
   "outputs": [
    {
     "name": "stdout",
     "output_type": "stream",
     "text": [
      "4344958448\n"
     ]
    }
   ],
   "source": [
    "print(id(MHD_Ptr))\n",
    "\n"
   ]
  },
  {
   "cell_type": "code",
   "execution_count": null,
   "id": "cbda6df4-e41b-4b13-bbb3-5e7428ad31a8",
   "metadata": {},
   "outputs": [],
   "source": []
  }
 ],
 "metadata": {
  "kernelspec": {
   "display_name": "Python 3 (ipykernel)",
   "language": "python",
   "name": "python3"
  },
  "language_info": {
   "codemirror_mode": {
    "name": "ipython",
    "version": 3
   },
   "file_extension": ".py",
   "mimetype": "text/x-python",
   "name": "python",
   "nbconvert_exporter": "python",
   "pygments_lexer": "ipython3",
   "version": "3.10.4"
  }
 },
 "nbformat": 4,
 "nbformat_minor": 5
}
