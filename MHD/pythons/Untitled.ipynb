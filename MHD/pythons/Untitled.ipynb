{
 "cells": [
  {
   "cell_type": "code",
   "execution_count": 1,
   "id": "0f2485af-d1c2-4a20-9824-82a47d841ca0",
   "metadata": {},
   "outputs": [],
   "source": [
    "import sys\n",
    "import numpy as np\n",
    "import ipywidgets as widgets\n",
    "import matplotlib.pyplot as plt\n",
    "import ctypes"
   ]
  },
  {
   "cell_type": "code",
   "execution_count": 2,
   "id": "1a7ccab0-7774-4e0f-a6f0-c720f4907087",
   "metadata": {},
   "outputs": [
    {
     "name": "stdout",
     "output_type": "stream",
     "text": [
      "/Volumes/Sources/matsui/Kemorin_MHD/MHD/pythons\n"
     ]
    }
   ],
   "source": [
    "%cd ./"
   ]
  },
  {
   "cell_type": "code",
   "execution_count": 3,
   "id": "a655d3ee-2955-4866-9543-0d8d9239107e",
   "metadata": {},
   "outputs": [
    {
     "name": "stdout",
     "output_type": "stream",
     "text": [
      "-rwxr-xr-x  1 matsui  staff  3591285 Jul  8 17:43 \u001b[31mlibcalypso_to_pythons.so\u001b[m\u001b[m*\n"
     ]
    }
   ],
   "source": [
    "%ls -l \"libcalypso_to_pythons.so\""
   ]
  },
  {
   "cell_type": "code",
   "execution_count": 4,
   "id": "048a22de-cbee-4de1-be3d-28c5aa80ebb2",
   "metadata": {},
   "outputs": [],
   "source": [
    "libname = \"libcalypso_to_pythons.so\"\n",
    "flib = ctypes.cdll.LoadLibrary(libname)"
   ]
  },
  {
   "cell_type": "code",
   "execution_count": 5,
   "id": "0526f46a-9547-4fc8-8705-e79b6c05c548",
   "metadata": {},
   "outputs": [
    {
     "name": "stdout",
     "output_type": "stream",
     "text": [
      "/Users/matsui/Desktop/tako\n"
     ]
    }
   ],
   "source": [
    "cd ~/Desktop/tako/"
   ]
  },
  {
   "cell_type": "code",
   "execution_count": 7,
   "id": "aac83cc5-287b-4b1f-b0cc-bbc91db7afb7",
   "metadata": {},
   "outputs": [
    {
     "name": "stdout",
     "output_type": "stream",
     "text": [
      "<__main__.LP_c_void_p object at 0x107500ec0>\n",
      " smonitor_ctl%pspec_ctl%pick_radius_ctl           0 F\n",
      "smonitor_ctl       107BDB078\n",
      "pspec_ctl       107BDCDF0\n",
      "pick_radius_ctl       107BDD440\n",
      "c_read_control_sph_SGS_MHD in F       107BC0CB0\n",
      "0x107bc0cb0\n"
     ]
    }
   ],
   "source": [
    "file_name = \"control_MHD\"\n",
    "MHD_Ptr = ctypes.POINTER(ctypes.c_void_p)()\n",
    "print(MHD_Ptr)\n",
    "# Load time average and standard deviation\n",
    "flib.c_read_control_sph_SGS_MHD.restype = ctypes.c_void_p\n",
    "flib.c_read_control_sph_SGS_MHD.argtypes = [ctypes.c_char_p]\n",
    "\n",
    "MHD_Ptr = flib.c_read_control_sph_SGS_MHD(file_name.encode())\n",
    "print(hex(MHD_Ptr))\n"
   ]
  },
  {
   "cell_type": "code",
   "execution_count": 15,
   "id": "91486501-d180-4e40-bf00-0963ba94bb9b",
   "metadata": {},
   "outputs": [
    {
     "name": "stdout",
     "output_type": "stream",
     "text": [
      "0x107bc0cb0\n",
      "0x107bc0db0\n"
     ]
    }
   ],
   "source": [
    "fld_Ptr = ctypes.POINTER(ctypes.c_void_p)()\n",
    "print(hex(MHD_Ptr))\n",
    "# Load time average and standard deviation\n",
    "flib.c_MHD_plt.restype = ctypes.c_void_p\n",
    "flib.c_MHD_plt.argtypes = [ctypes.c_void_p]\n",
    "\n",
    "fld_Ptr = flib.c_MHD_plt(ctypes.c_void_p(MHD_Ptr))\n",
    "print(hex(fld_Ptr))\n",
    "\n",
    "\n"
   ]
  },
  {
   "cell_type": "code",
   "execution_count": 19,
   "id": "6df7d493-ace7-40cf-8fd2-54142f1073dd",
   "metadata": {},
   "outputs": [
    {
     "name": "stdout",
     "output_type": "stream",
     "text": [
      "0x107bc0db0\n",
      "0x107bc0eb0\n"
     ]
    }
   ],
   "source": [
    "sph_NP_Ptr = ctypes.POINTER(ctypes.c_void_p)()\n",
    "print(hex(fld_Ptr))\n",
    "# Load time average and standard deviation\n",
    "flib.c_plt_ndomain_ctl.restype = ctypes.c_void_p\n",
    "flib.c_plt_ndomain_ctl.argtypes = [ctypes.c_void_p]\n",
    "\n",
    "sph_NP_Ptr = flib.c_plt_ndomain_ctl(ctypes.c_void_p(fld_Ptr))\n",
    "print(hex(sph_NP_Ptr))\n"
   ]
  },
  {
   "cell_type": "code",
   "execution_count": 22,
   "id": "64a70e26-ebf4-41e1-988e-3b643c3114ed",
   "metadata": {},
   "outputs": [
    {
     "name": "stdout",
     "output_type": "stream",
     "text": [
      "0x107bc0eb0\n",
      "1120\n"
     ]
    }
   ],
   "source": [
    "sph_NP = ctypes.c_int()\n",
    "print(hex(sph_NP_Ptr))\n",
    "# Load time average and standard deviation\n",
    "flib.c_int_item_intvalue.restype = ctypes.c_int\n",
    "flib.c_int_item_intvalue.argtypes = [ctypes.c_void_p]\n",
    "\n",
    "sph_NP = flib.c_int_item_intvalue(ctypes.c_void_p(sph_NP_Ptr))\n",
    "print(sph_NP)\n",
    "\n",
    "\n"
   ]
  },
  {
   "cell_type": "code",
   "execution_count": 60,
   "id": "9876d066-7dc8-4c82-9e39-2bb204f3f7f5",
   "metadata": {},
   "outputs": [
    {
     "data": {
      "application/vnd.jupyter.widget-view+json": {
       "model_id": "9e110f0dfe724ad18ed2a82e5d46ea51",
       "version_major": 2,
       "version_minor": 0
      },
      "text/plain": [
       "IntText(value=1120, description='Integer:')"
      ]
     },
     "metadata": {},
     "output_type": "display_data"
    }
   ],
   "source": [
    "tako = widgets.IntText(value=sph_NP,\n",
    "                  step=1,\n",
    "                  description='Integer:',\n",
    "                  disabled=False\n",
    "                 )\n",
    "display(tako)"
   ]
  },
  {
   "cell_type": "code",
   "execution_count": 62,
   "id": "cbda6df4-e41b-4b13-bbb3-5e7428ad31a8",
   "metadata": {},
   "outputs": [
    {
     "name": "stdout",
     "output_type": "stream",
     "text": [
      "507\n"
     ]
    }
   ],
   "source": [
    "print(tako.value)\n"
   ]
  },
  {
   "cell_type": "code",
   "execution_count": null,
   "id": "7eb87938-8c0b-46d0-971c-060b22352fb4",
   "metadata": {},
   "outputs": [],
   "source": []
  }
 ],
 "metadata": {
  "kernelspec": {
   "display_name": "Python 3 (ipykernel)",
   "language": "python",
   "name": "python3"
  },
  "language_info": {
   "codemirror_mode": {
    "name": "ipython",
    "version": 3
   },
   "file_extension": ".py",
   "mimetype": "text/x-python",
   "name": "python",
   "nbconvert_exporter": "python",
   "pygments_lexer": "ipython3",
   "version": "3.10.4"
  }
 },
 "nbformat": 4,
 "nbformat_minor": 5
}
