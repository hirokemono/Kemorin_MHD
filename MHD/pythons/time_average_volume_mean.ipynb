{
 "cells": [
  {
   "cell_type": "markdown",
   "id": "a1178fbc-402b-408c-9fcb-ee09630f0a46",
   "metadata": {
    "tags": []
   },
   "source": [
    "# Notebook to generate time averaged spectr data file\n",
    "\n",
    "This notebook generates time average and standard deviations from mean square data files. There are for types.\n",
    "1. Volume mean square and average\n",
    "    * [vol_ave_prefix].dat\n",
    "    * [vol_pwr_prefix]_s.dat\n",
    "    * [vol_pwr_prefix]_m0.dat\n",
    "    * [typical scale prefix].dat\n",
    "2. Volume power spectra\n",
    "    * [vol_pwr_prefix]_l.dat\n",
    "    * [vol_pwr_prefix]_m.dat\n",
    "    * [vol_pwr_prefix]_lm.dat\n",
    "3. Layerd mean and average\n",
    "    * [layer pwr prefix]_s.dat\n",
    "    * [layer pwr prefix]_m0.dat\n",
    "4. Layerd power spectra\n",
    "    * [layer pwr prefix]_l.dat\n",
    "    * [layer pwr prefix]_m.dat\n",
    "    * [layer pwr prefix]_lm.dat\n",
    "\n",
    "In addition, small plotting routines for the time and volume averaged power spectrum is also included."
   ]
  },
  {
   "cell_type": "markdown",
   "id": "f8d1ab2e-a78f-4b41-af9c-3735859a3c69",
   "metadata": {
    "tags": []
   },
   "source": [
    "## Initial setup"
   ]
  },
  {
   "cell_type": "code",
   "execution_count": 1,
   "id": "ce4ed476-71b8-46c8-b361-9322410156c8",
   "metadata": {},
   "outputs": [],
   "source": [
    "import sys\n",
    "import numpy as np\n",
    "import ipywidgets as widgets\n",
    "import matplotlib.pyplot as plt\n",
    "from ctypes import *"
   ]
  },
  {
   "cell_type": "markdown",
   "id": "983d2d25-e4c6-41e1-bff2-619135ff52ce",
   "metadata": {},
   "source": [
    "Move current directory to directory with data to be averaged"
   ]
  },
  {
   "cell_type": "code",
   "execution_count": 2,
   "id": "dd15c2fa-f5ad-4656-98e8-75a6cf3c0db1",
   "metadata": {},
   "outputs": [
    {
     "name": "stdout",
     "output_type": "stream",
     "text": [
      "/Volumes/Sources/matsui/Kemorin_MHD/MHD/pythons\n"
     ]
    }
   ],
   "source": [
    "%cd ./"
   ]
  },
  {
   "cell_type": "markdown",
   "id": "bee617e0-c612-4410-8f23-17b2b09cafd3",
   "metadata": {},
   "source": [
    "Check if shared libraly to load is there"
   ]
  },
  {
   "cell_type": "code",
   "execution_count": 3,
   "id": "0029b28e-1105-40ac-af0e-f211f9ed6944",
   "metadata": {
    "tags": []
   },
   "outputs": [
    {
     "name": "stdout",
     "output_type": "stream",
     "text": [
      "-rwxr-xr-x  1 matsui  staff  784453 Sep 19 10:58 \u001b[31mlibcalypso_to_pythons.so\u001b[m\u001b[m*\n"
     ]
    }
   ],
   "source": [
    "%ls -l \"libcalypso_to_pythons.so\""
   ]
  },
  {
   "cell_type": "markdown",
   "id": "1934d1e7-d5be-4147-820c-2efe4014a42f",
   "metadata": {},
   "source": [
    "Load dynamic library to run the program"
   ]
  },
  {
   "cell_type": "code",
   "execution_count": 4,
   "id": "03dbf930-019c-4a31-bc1e-4e01e7341970",
   "metadata": {},
   "outputs": [],
   "source": [
    "libname = \"libcalypso_to_pythons.so\"\n",
    "flib = cdll.LoadLibrary(libname)"
   ]
  },
  {
   "cell_type": "markdown",
   "id": "d801ff38-9af6-48fa-9111-42b3f758066c",
   "metadata": {
    "tags": []
   },
   "source": [
    "## Go to data directory"
   ]
  },
  {
   "cell_type": "markdown",
   "id": "7225df03-2f9a-4992-a08b-a08dfd209645",
   "metadata": {},
   "source": [
    "Move current directory to directory with data to be averaged"
   ]
  },
  {
   "cell_type": "code",
   "execution_count": 6,
   "id": "0f5eb804-6989-4ac3-9244-1bef3b892382",
   "metadata": {},
   "outputs": [
    {
     "name": "stdout",
     "output_type": "stream",
     "text": [
      "/Volumes/pub_q/matsui/sph_shell_394_3/monitor\n"
     ]
    }
   ],
   "source": [
    "cd /Volumes/pub_q/matsui/sph_shell_394_3/monitor"
   ]
  },
  {
   "cell_type": "markdown",
   "id": "cfddb19d-7ec3-42c4-bc4e-27fa2cbc6a48",
   "metadata": {},
   "source": [
    "Check if data file to be averaged is there"
   ]
  },
  {
   "cell_type": "code",
   "execution_count": 7,
   "id": "1de18ee9-1194-4c3d-993c-f199de724f66",
   "metadata": {
    "tags": []
   },
   "outputs": [
    {
     "name": "stdout",
     "output_type": "stream",
     "text": [
      "total 12716\n",
      "-rw-------  1 matsui  staff   892087 Aug 24 18:31 Nusselt.dat.gz\n",
      "-rw-------  1 matsui  staff   592198 Aug 24 18:31 dipolarity.dat.gz\n",
      "-rw-rw-r--  1 matsui  staff  1224409 Aug 24 18:31 gauss_coefs_Re.dat.gz\n",
      "-rw-------  1 matsui  staff  5180819 Aug 24 18:31 sph_ave_convective.dat.gz\n",
      "-rw-------  1 matsui  staff  5125415 Aug 24 18:31 sph_ave_volume.dat.gz\n"
     ]
    }
   ],
   "source": [
    "ls -l"
   ]
  },
  {
   "cell_type": "markdown",
   "id": "4997d8c5-1140-4daa-87ed-e45a76682084",
   "metadata": {
    "tags": []
   },
   "source": [
    "## Time averaging for volume mean square and average\n",
    "\n",
    "The folowing moniter data files can be treated in this block\n",
    "1. Volume average data [vol_ave_prefix].dat\n",
    "2. Volume mean square data [vol_pwr_prefix]_s.dat\n",
    "3. Volume mean square data for axissymmetric component [vol_pwr_prefix]_m0.dat\n",
    "4. Typical scale data [typical scale prefix].dat\n"
   ]
  },
  {
   "cell_type": "markdown",
   "id": "10fe933e-1b91-409d-a540-d697b6a9de3c",
   "metadata": {},
   "source": [
    "Set file name to be averaged as [file_name], start time as [start_time], and end time as [end_time]."
   ]
  },
  {
   "cell_type": "code",
   "execution_count": 7,
   "id": "d268c995-3401-46f0-a1ea-7267ccef88c3",
   "metadata": {
    "tags": []
   },
   "outputs": [],
   "source": [
    "file_name = \"sph_pwr_volume_s.dat\"\n",
    "start_time = 3.3\n",
    "end_time =   4.3"
   ]
  },
  {
   "cell_type": "markdown",
   "id": "6f09b360-4269-4168-9e90-9e3e0bc7552d",
   "metadata": {},
   "source": [
    "file_nameStart time average program for volume spectrum data. Results are shown in the standard output, and the following files will be generated.\n",
    "1. Time average data will be \"t_ave_[file_name]\",\n",
    "2. Standard deviation will be \"t_sigma_[file_name]\"."
   ]
  },
  {
   "cell_type": "code",
   "execution_count": 8,
   "id": "6bd4b87e-c381-427f-a5ff-40099798cc00",
   "metadata": {},
   "outputs": [
    {
     "name": "stdout",
     "output_type": "stream",
     "text": [
      " Open file sph_pwr_volume_s.dat\n",
      " Number of components:           52\n",
      " K_ene_pol\n",
      " K_ene_tor\n",
      " K_ene\n",
      " temperature\n",
      " pressure\n",
      " vorticity_pol\n",
      " vorticity_tor\n",
      " vorticity\n",
      " M_ene_pol\n",
      " M_ene_tor\n",
      " M_ene\n",
      " current_density_pol\n",
      " current_density_tor\n",
      " current_density\n",
      " buoyancy_flux\n",
      " Lorentz_work\n",
      " vecp_induction_pol\n",
      " vecp_induction_tor\n",
      " vecp_induction\n",
      " rot_Lorentz_force_pol\n",
      " rot_Lorentz_force_tor\n",
      " rot_Lorentz_force\n",
      " rot_buoyancy_pol\n",
      " rot_buoyancy_tor\n",
      " rot_buoyancy\n",
      " rot_Coriolis_force_pol\n",
      " rot_Coriolis_force_tor\n",
      " rot_Coriolis_force\n",
      " Coriolis_force_pol\n",
      " Coriolis_force_tor\n",
      " Coriolis_force\n",
      " pressure_gradient_pol\n",
      " pressure_gradient_tor\n",
      " pressure_gradient\n",
      " buoyancy_pol\n",
      " buoyancy_tor\n",
      " buoyancy\n",
      " heat_flux_pol\n",
      " heat_flux_tor\n",
      " heat_flux\n",
      " inertia_pol\n",
      " inertia_tor\n",
      " inertia\n",
      " Lorentz_force_pol\n",
      " Lorentz_force_tor\n",
      " Lorentz_force\n",
      " viscous_diffusion_pol\n",
      " viscous_diffusion_tor\n",
      " viscous_diffusion\n",
      " rest_of_geostrophic_pol\n",
      " rest_of_geostrophic_tor\n",
      " rest_of_geostrophic\n",
      "\n",
      " Open file sph_pwr_volume_s.dat again\n",
      "\n",
      "Start and end time:        3.300019998205670E+000   9.881312916824931E-323\n",
      " Time_average, standard_deviation, field_name\n",
      " 2.445417718451611E+003 3.839025778617985E+002    K_ene_pol\n",
      " 5.516902806995623E+003 8.466735475941035E+002    K_ene_tor\n",
      " 7.962320525447269E+003 1.159518860753957E+003    K_ene\n",
      " 8.443974150113632E-003 3.711594165259654E-004    temperature\n",
      " 7.182676761185497E+002 1.806686904885381E+002    pressure\n",
      " 5.397535722166251E+006 7.940280050186646E+005    vorticity_pol\n",
      " 4.004350918697097E+006 6.965712123638266E+005    vorticity_tor\n",
      " 9.401886640863296E+006 1.447997945916948E+006    vorticity\n",
      " 1.161853733040181E+000 1.784586015992874E-001    M_ene_pol\n",
      " 1.438053887884350E+000 2.596585114300490E-001    M_ene_tor\n",
      " 2.599907620924529E+000 4.034555803707344E-001    M_ene\n",
      " 1.774631443953666E+003 2.331410531493495E+002    current_density_pol\n",
      " 1.185853381280325E+003 1.694205573790733E+002    current_density_tor\n",
      " 2.960484825234012E+003 3.826735598904434E+002    current_density\n",
      " 1.560926934859252E+016 5.159122588003672E+015    buoyancy_flux\n",
      " 2.778621996202435E+015 1.766377267449712E+015    Lorentz_work\n",
      " 3.357624431535649E+004 6.659289057170572E+003    vecp_induction_pol\n",
      " 5.652513063178088E+003 1.309636960314991E+003    vecp_induction_tor\n",
      " 3.922875737853467E+004 7.766452055963247E+003    vecp_induction\n",
      " 1.868828837589352E+015 5.571960023217082E+015    rot_Lorentz_force_pol\n",
      " 2.305201414397721E+020 1.955489696764808E+020    rot_Lorentz_force_tor\n",
      " 2.305220102686089E+020 1.955496546184550E+020    rot_Lorentz_force\n",
      " 0.000000000000000E+000 0.000000000000000E+000    rot_buoyancy_pol\n",
      " 4.892904238641031E+013 6.666902836233935E+012    rot_buoyancy_tor\n",
      " 4.892904238641031E+013 6.666902836233935E+012    rot_buoyancy\n",
      " 2.215755624462563E+014 4.391674739773228E+013    rot_Coriolis_force_pol\n",
      " 6.651916315074772E+014 1.124365195300566E+014    rot_Coriolis_force_tor\n",
      " 8.867671939537436E+014 1.545029638674234E+014    rot_Coriolis_force\n",
      " 4.590959507895634E+012 7.211155687452698E+011    Coriolis_force_pol\n",
      " 4.528679658433711E+010 7.738916494962576E+009    Coriolis_force_tor\n",
      " 4.636246304479962E+012 7.240000344057756E+011    Coriolis_force\n",
      " 5.119979159363296E+012 7.908305294254056E+011    pressure_gradient_pol\n",
      " 0.000000000000000E+000 0.000000000000000E+000    pressure_gradient_tor\n",
      " 5.119979159363296E+012 7.908305294254055E+011    pressure_gradient\n",
      " 3.007265079822346E+011 3.106368750676185E+010    buoyancy_pol\n",
      " 0.000000000000000E+000 0.000000000000000E+000    buoyancy_tor\n",
      " 3.007265079822346E+011 3.106368750676186E+010    buoyancy\n",
      " 1.255560280007682E+002 2.634196004554901E+001    heat_flux_pol\n",
      " 1.065689457521551E+002 2.411727474163366E+001    heat_flux_tor\n",
      " 2.321249737529226E+002 4.574955956224053E+001    heat_flux\n",
      " 2.266657741755378E+011 1.065113389446754E+011    inertia_pol\n",
      " 1.383874880320621E+010 5.398311101623915E+009    inertia_tor\n",
      " 2.405045229787435E+011 1.113904490270887E+011    inertia\n",
      " 5.565361070880753E+011 2.213686338750572E+011    Lorentz_force_pol\n",
      " 2.973685845094318E+010 7.613967841365847E+009    Lorentz_force_tor\n",
      " 5.862729655390126E+011 2.270844532288870E+011    Lorentz_force\n",
      " 4.575228272588943E+010 7.383550106801350E+009    viscous_diffusion_pol\n",
      " 2.672156933549904E+010 6.149598672732254E+009    viscous_diffusion_tor\n",
      " 7.247385206138823E+010 1.271590318725788E+010    viscous_diffusion\n",
      " 1.027086432649471E+012 2.874186418794965E+011    rest_of_geostrophic_pol\n",
      " 4.528679658433711E+010 7.738916494962576E+009    rest_of_geostrophic_tor\n",
      " 1.072373229233808E+012 2.928777671840405E+011    rest_of_geostrophic\n"
     ]
    }
   ],
   "source": [
    "flib.time_ave_sdev_sph_volume_pwr_f.restype = c_int\n",
    "flib.time_ave_sdev_sph_volume_pwr_f.argtypes = [c_char_p, c_double, c_double]\n",
    "\n",
    "n = flib.time_ave_sdev_sph_volume_pwr_f(file_name.encode(), c_double(start_time), c_double(end_time))"
   ]
  },
  {
   "cell_type": "markdown",
   "id": "c033a56f-247e-4ce5-97d8-c10302062677",
   "metadata": {
    "tags": []
   },
   "source": [
    "## Time averaging for volume power spectra\n",
    "\n",
    "The folowing moniter data files can be treated in this block\n",
    "1. Volume power specta data \n",
    "    * [vol_pwr_prefix]_l.dat\n",
    "    * [vol_pwr_prefix]_m.dat\n",
    "    * [vol_pwr_prefix]_lm.dat"
   ]
  },
  {
   "cell_type": "markdown",
   "id": "1a86151d-1463-4cbc-a180-19646b877061",
   "metadata": {},
   "source": [
    "Set file name to be averaged as [file_name], start time as [start_time], and end time as [end_time]."
   ]
  },
  {
   "cell_type": "code",
   "execution_count": 10,
   "id": "1c631478-24aa-4367-878c-64049ec19dfb",
   "metadata": {
    "tags": []
   },
   "outputs": [],
   "source": [
    "file_name = \"sph_pwr_volume_l.dat\"\n",
    "start_time = 5.25\n",
    "end_time =   6.25"
   ]
  },
  {
   "cell_type": "markdown",
   "id": "301dd283-672b-4435-92e7-763bc7e6efdd",
   "metadata": {},
   "source": [
    "Start time average program for volume spectrum data. The following files will be generated.\n",
    "1. Time average data will be \"t_ave_[file_name]\",\n",
    "2. Standard deviation will be \"t_sigma_[file_name]\"."
   ]
  },
  {
   "cell_type": "code",
   "execution_count": null,
   "id": "04447abf-5e28-498e-97bb-2447e7d71d66",
   "metadata": {},
   "outputs": [],
   "source": [
    "flib.time_ave_sdev_sph_vol_spectr_f.restype = c_int\n",
    "flib.time_ave_sdev_sph_vol_spectr_f.argtypes = [c_char_p, c_double, c_double]\n",
    "\n",
    "n = flib.time_ave_sdev_sph_vol_spectr_f(file_name.encode(), c_double(start_time), c_double(end_time))"
   ]
  },
  {
   "cell_type": "markdown",
   "id": "56b6c096-1a72-4ad8-a90c-ef94f95da822",
   "metadata": {
    "jp-MarkdownHeadingCollapsed": true,
    "tags": []
   },
   "source": [
    "## Time averaging for layerd mean square and average\n",
    "\n",
    "The folowing moniter data files can be treated in this block\n",
    "1. Layerd mean square data [layer pwr prefix]_s.dat\n",
    "2. Layerd mean square data for axissymmetric component [layer pwr prefix]_m0.dat"
   ]
  },
  {
   "cell_type": "markdown",
   "id": "d5f3f41d-c53d-4e0d-80d4-ee79951fb744",
   "metadata": {},
   "source": [
    "Set file name to be averaged as [file_name], start time as [start_time], and end time as [end_time]."
   ]
  },
  {
   "cell_type": "code",
   "execution_count": 12,
   "id": "1f9dcb9e-9794-4661-9398-d2125df0c0e0",
   "metadata": {
    "tags": []
   },
   "outputs": [],
   "source": [
    "file_name = \"sph_pwr_layer_s.dat\"\n",
    "start_time = 5.0\n",
    "end_time =  12.0"
   ]
  },
  {
   "cell_type": "markdown",
   "id": "b47db1d3-2dfd-4757-92d1-8ed0428a6b88",
   "metadata": {},
   "source": [
    "Start time average program for volume spectrum data. The following files will be generated.\n",
    "1. Time average data will be \"t_ave_[file_name]\",\n",
    "2. Standard deviation will be \"t_sigma_[file_name]\"."
   ]
  },
  {
   "cell_type": "code",
   "execution_count": 13,
   "id": "cf49cb85-427f-40e2-ac77-b848f4d81d32",
   "metadata": {},
   "outputs": [
    {
     "name": "stdout",
     "output_type": "stream",
     "text": [
      " Open file sph_pwr_layer_s.dat\n",
      " Number of components:           16\n",
      " K_ene_pol\n",
      " K_ene_tor\n",
      " K_ene\n",
      " temperature\n",
      " pressure\n",
      " vorticity_pol\n",
      " vorticity_tor\n",
      " vorticity\n",
      " M_ene_pol\n",
      " M_ene_tor\n",
      " M_ene\n",
      " current_density_pol\n",
      " current_density_tor\n",
      " current_density\n",
      " buoyancy_flux\n",
      " Lorentz_work\n",
      "\n",
      " Open file sph_pwr_layer_s.dat again\n",
      "\n",
      "Start and end time:        5.001999999979800E+000   1.200199999971480E+001\n"
     ]
    }
   ],
   "source": [
    "flib.time_ave_sdev_sph_layer_pwr_f.restype = c_int\n",
    "flib.time_ave_sdev_sph_layer_pwr_f.argtypes = [c_char_p, c_double, c_double]\n",
    "\n",
    "n = flib.time_ave_sdev_sph_layer_pwr_f(file_name.encode(), c_double(start_time), c_double(end_time))"
   ]
  },
  {
   "cell_type": "markdown",
   "id": "a069a3a7-4397-48d8-accc-c3bb2b803e8f",
   "metadata": {
    "tags": []
   },
   "source": [
    "## Time averaging for layerd power spectra\n",
    "\n",
    "\n",
    "The folowing moniter data files can be treated in this block\n",
    "1. Layerd power specta data [layer pwr prefix]_l.dat, [layer pwr prefix]_l.dat, [layer pwr prefix]_lm.dat\n"
   ]
  },
  {
   "cell_type": "markdown",
   "id": "60e96aa8-decd-4673-85c3-bdbf15f03096",
   "metadata": {},
   "source": [
    "Set file name to be averaged as [file_name], start time as [start_time], and end time as [end_time]."
   ]
  },
  {
   "cell_type": "code",
   "execution_count": 9,
   "id": "a8d4b61a-0c9a-42e1-a5c8-99a4ad968d0d",
   "metadata": {
    "tags": []
   },
   "outputs": [],
   "source": [
    "file_name = \"sph_pwr_layer_lm.dat\"\n",
    "start_time = 1.6\n",
    "end_time =   2.0"
   ]
  },
  {
   "cell_type": "markdown",
   "id": "d7640ab9-79d3-45e9-98c4-2763d080279b",
   "metadata": {},
   "source": [
    "Start time average program for volume spectrum data. The following files will be generated.\n",
    "1. Time average data will be \"t_ave_[file_name]\",\n",
    "2. Standard deviation will be \"t_sdev_[file_name]\"."
   ]
  },
  {
   "cell_type": "code",
   "execution_count": 10,
   "id": "898d6ffb-4532-4b6e-9ac3-e8145ee22c9a",
   "metadata": {},
   "outputs": [
    {
     "ename": "AttributeError",
     "evalue": "dlsym(0x12ee06fd0, time_ave_sdev_sph_layer_spec_f): symbol not found",
     "output_type": "error",
     "traceback": [
      "\u001b[0;31m---------------------------------------------------------------------------\u001b[0m",
      "\u001b[0;31mAttributeError\u001b[0m                            Traceback (most recent call last)",
      "Input \u001b[0;32mIn [10]\u001b[0m, in \u001b[0;36m<cell line: 1>\u001b[0;34m()\u001b[0m\n\u001b[0;32m----> 1\u001b[0m \u001b[43mflib\u001b[49m\u001b[38;5;241;43m.\u001b[39;49m\u001b[43mtime_ave_sdev_sph_layer_spec_f\u001b[49m\u001b[38;5;241m.\u001b[39mrestype \u001b[38;5;241m=\u001b[39m c_int\n\u001b[1;32m      2\u001b[0m flib\u001b[38;5;241m.\u001b[39mtime_ave_sdev_sph_layer_spec_f\u001b[38;5;241m.\u001b[39margtypes \u001b[38;5;241m=\u001b[39m [c_char_p, c_double, c_double]\n\u001b[1;32m      4\u001b[0m n \u001b[38;5;241m=\u001b[39m flib\u001b[38;5;241m.\u001b[39mtime_ave_sdev_sph_layer_spec_f(file_name\u001b[38;5;241m.\u001b[39mencode(), c_double(start_time), c_double(end_time))\n",
      "File \u001b[0;32m~/.pyenv/versions/3.10.4/lib/python3.10/ctypes/__init__.py:387\u001b[0m, in \u001b[0;36mCDLL.__getattr__\u001b[0;34m(self, name)\u001b[0m\n\u001b[1;32m    385\u001b[0m \u001b[38;5;28;01mif\u001b[39;00m name\u001b[38;5;241m.\u001b[39mstartswith(\u001b[38;5;124m'\u001b[39m\u001b[38;5;124m__\u001b[39m\u001b[38;5;124m'\u001b[39m) \u001b[38;5;129;01mand\u001b[39;00m name\u001b[38;5;241m.\u001b[39mendswith(\u001b[38;5;124m'\u001b[39m\u001b[38;5;124m__\u001b[39m\u001b[38;5;124m'\u001b[39m):\n\u001b[1;32m    386\u001b[0m     \u001b[38;5;28;01mraise\u001b[39;00m \u001b[38;5;167;01mAttributeError\u001b[39;00m(name)\n\u001b[0;32m--> 387\u001b[0m func \u001b[38;5;241m=\u001b[39m \u001b[38;5;28;43mself\u001b[39;49m\u001b[38;5;241;43m.\u001b[39;49m\u001b[38;5;21;43m__getitem__\u001b[39;49m\u001b[43m(\u001b[49m\u001b[43mname\u001b[49m\u001b[43m)\u001b[49m\n\u001b[1;32m    388\u001b[0m \u001b[38;5;28msetattr\u001b[39m(\u001b[38;5;28mself\u001b[39m, name, func)\n\u001b[1;32m    389\u001b[0m \u001b[38;5;28;01mreturn\u001b[39;00m func\n",
      "File \u001b[0;32m~/.pyenv/versions/3.10.4/lib/python3.10/ctypes/__init__.py:392\u001b[0m, in \u001b[0;36mCDLL.__getitem__\u001b[0;34m(self, name_or_ordinal)\u001b[0m\n\u001b[1;32m    391\u001b[0m \u001b[38;5;28;01mdef\u001b[39;00m \u001b[38;5;21m__getitem__\u001b[39m(\u001b[38;5;28mself\u001b[39m, name_or_ordinal):\n\u001b[0;32m--> 392\u001b[0m     func \u001b[38;5;241m=\u001b[39m \u001b[38;5;28;43mself\u001b[39;49m\u001b[38;5;241;43m.\u001b[39;49m\u001b[43m_FuncPtr\u001b[49m\u001b[43m(\u001b[49m\u001b[43m(\u001b[49m\u001b[43mname_or_ordinal\u001b[49m\u001b[43m,\u001b[49m\u001b[43m \u001b[49m\u001b[38;5;28;43mself\u001b[39;49m\u001b[43m)\u001b[49m\u001b[43m)\u001b[49m\n\u001b[1;32m    393\u001b[0m     \u001b[38;5;28;01mif\u001b[39;00m \u001b[38;5;129;01mnot\u001b[39;00m \u001b[38;5;28misinstance\u001b[39m(name_or_ordinal, \u001b[38;5;28mint\u001b[39m):\n\u001b[1;32m    394\u001b[0m         func\u001b[38;5;241m.\u001b[39m\u001b[38;5;18m__name__\u001b[39m \u001b[38;5;241m=\u001b[39m name_or_ordinal\n",
      "\u001b[0;31mAttributeError\u001b[0m: dlsym(0x12ee06fd0, time_ave_sdev_sph_layer_spec_f): symbol not found"
     ]
    }
   ],
   "source": [
    "flib.time_ave_sdev_sph_layer_spec_f.restype = c_int\n",
    "flib.time_ave_sdev_sph_layer_spec_f.argtypes = [c_char_p, c_double, c_double]\n",
    "\n",
    "n = flib.time_ave_sdev_sph_layer_spec_f(file_name.encode(), c_double(start_time), c_double(end_time))"
   ]
  },
  {
   "cell_type": "markdown",
   "id": "c8228692-4116-4716-91a5-c06d96ac66b3",
   "metadata": {
    "tags": []
   },
   "source": [
    "## Check time average data (Optional)\n",
    "These are very simple output to look at the time average and standard deviation data output. Please be careful to display large size data."
   ]
  },
  {
   "cell_type": "code",
   "execution_count": 20,
   "id": "1b3e84bf-0ef8-49e5-943d-6ea9f63f0c54",
   "metadata": {},
   "outputs": [
    {
     "name": "stdout",
     "output_type": "stream",
     "text": [
      "radial_layers, truncation\n",
      "               1               0\n",
      "ICB_id, CMB_id\n",
      "               1              96\n",
      "Lower boundary\n",
      "               1  3.33333333333333E-001\n",
      "Upper boundary\n",
      "              96  1.33333333333333E+000\n",
      "number of components\n",
      "               8              16\n",
      "    3    1    1    3    3    3    1    1\n",
      "t_step    time    K_ene_pol    K_ene_tor    K_ene    temperature    pressure    vorticity_pol    vorticity_tor    vorticity    M_ene_pol    M_ene_tor    M_ene    current_density_pol    current_density_tor    current_density    buoyancy_flux    Lorentz_work    \n",
      "         1200200   1.200199999971480E+001   1.124968193985901E+002   3.256953131006878E+002   4.381921324992790E+002   3.900325179737186E-002   1.011183309530280E+002   6.545558538309260E+004   4.164720488770660E+004   1.071027902707994E+005   7.951497765874202E-004   1.606955282000407E-003   2.402105058587819E-003   7.892225568491102E-001   3.992135597819310E-001   1.188436116631040E+000   4.255784648182228E+011   2.214927770350821E+005\n",
      "\n"
     ]
    }
   ],
   "source": [
    "average_file = \"t_ave_\" + file_name\n",
    "f = open(average_file, 'r', encoding='UTF-8')\n",
    "data = f.read()\n",
    "print(data)\n",
    "f.close()"
   ]
  },
  {
   "cell_type": "markdown",
   "id": "bad30e5c-953a-424c-853f-f41b4153fd68",
   "metadata": {},
   "source": [
    "Check standard deviation data (Optional)"
   ]
  },
  {
   "cell_type": "code",
   "execution_count": 22,
   "id": "d8bd59b2-5024-474b-8710-258140845bcd",
   "metadata": {},
   "outputs": [
    {
     "name": "stdout",
     "output_type": "stream",
     "text": [
      "radial_layers, truncation\n",
      "               1               0\n",
      "ICB_id, CMB_id\n",
      "               1              96\n",
      "Lower boundary\n",
      "               1  3.33333333333333E-001\n",
      "Upper boundary\n",
      "              96  1.33333333333333E+000\n",
      "number of components\n",
      "               8              16\n",
      "    3    1    1    3    3    3    1    1\n",
      "t_step    time    K_ene_pol    K_ene_tor    K_ene    temperature    pressure    vorticity_pol    vorticity_tor    vorticity    M_ene_pol    M_ene_tor    M_ene    current_density_pol    current_density_tor    current_density    buoyancy_flux    Lorentz_work    \n",
      "         1200200   1.200199999971480E+001   1.724354485456676E+001   6.533648321495633E+001   7.940593759074467E+001   1.498824868699157E-003   3.347082592375858E+001   9.747288735158802E+003   6.427796099583609E+003   1.566466455805707E+004   4.771690663630584E-004   1.052977909815143E-003   1.498330406709799E-003   5.308683477573717E-001   2.559441264788652E-001   7.695991313525288E-001   9.185982430346094E+010   4.891228982779328E+005\n",
      "\n"
     ]
    }
   ],
   "source": [
    "average_file = \"t_sigma_\" + file_name\n",
    "f = open(average_file, 'r', encoding='UTF-8')\n",
    "data = f.read()\n",
    "print(data)\n",
    "f.close()"
   ]
  },
  {
   "cell_type": "markdown",
   "id": "c1f91240-d02c-41e3-9b84-3f404e43b70b",
   "metadata": {
    "tags": []
   },
   "source": [
    "## Simple XY plot for thime averaged volume spectrum\n",
    "Here is a very simple program to make a time averaged power spectrum plot frem obtained results. There are a lot of room to improve the image quality."
   ]
  },
  {
   "cell_type": "code",
   "execution_count": 7,
   "id": "7049a5ef-817e-4b34-afe1-1cd0ac780004",
   "metadata": {},
   "outputs": [
    {
     "name": "stdout",
     "output_type": "stream",
     "text": [
      " Open file t_ave_sph_pwr_volume_lm.dat again\n",
      " Number of components:           16\n",
      " K_ene_pol\n",
      " K_ene_tor\n",
      " K_ene\n",
      " temperature\n",
      " pressure\n",
      " vorticity_pol\n",
      " vorticity_tor\n",
      " vorticity\n",
      " M_ene_pol\n",
      " M_ene_tor\n",
      " M_ene\n",
      " current_density_pol\n",
      " current_density_tor\n",
      " current_density\n",
      " buoyancy_flux\n",
      " Lorentz_work\n",
      " Open file t_sigma_sph_pwr_volume_lm.dat again\n",
      " Number of components:           16\n",
      " K_ene_pol\n",
      " K_ene_tor\n",
      " K_ene\n",
      " temperature\n",
      " pressure\n",
      " vorticity_pol\n",
      " vorticity_tor\n",
      " vorticity\n",
      " M_ene_pol\n",
      " M_ene_tor\n",
      " M_ene\n",
      " current_density_pol\n",
      " current_density_tor\n",
      " current_density\n",
      " buoyancy_flux\n",
      " Lorentz_work\n",
      "Truncation level: 95\n"
     ]
    }
   ],
   "source": [
    "file_name = \"sph_pwr_volume_lm.dat\"\n",
    "tave_file_name = \"t_ave_\" +   file_name\n",
    "sdev_file_name = \"t_sigma_\" + file_name\n",
    "\n",
    "flib.read_tave_sdev_sph_vol_spec_f.restype = c_int\n",
    "flib.read_tave_sdev_sph_vol_spec_f.argtypes = [c_char_p, c_char_p]\n",
    "truncation = flib.read_tave_sdev_sph_vol_spec_f(tave_file_name.encode(), sdev_file_name.encode())\n",
    "\n",
    "print(\"Truncation level:\", truncation)\n"
   ]
  },
  {
   "cell_type": "code",
   "execution_count": 8,
   "id": "197048f6-272e-4570-8ad9-9e388b509a6e",
   "metadata": {},
   "outputs": [
    {
     "data": {
      "image/png": "[encoded data removed]",
      "text/plain": [
       "<Figure size 432x288 with 1 Axes>"
      ]
     },
     "metadata": {
      "needs_background": "light"
     },
     "output_type": "display_data"
    }
   ],
   "source": [
    "# Set truncation for plot\n",
    "ltr = truncation\n",
    "# Set component name to be plotted\n",
    "field_name = \"K_ene_pol\"\n",
    "\n",
    "# Initialize arrays\n",
    "lx =         np.zeros((ltr+1))\n",
    "ave_spec =   np.zeros((ltr+1))\n",
    "sdev_spec =  np.zeros((ltr+1))\n",
    "\n",
    "# Load time average and standard deviation\n",
    "flib.load_field_labels_f.restype = c_void_p\n",
    "flib.load_field_labels_f.argtypes = [c_int, c_char_p, np.ctypeslib.ndpointer(dtype=np.float64),\n",
    "                                     np.ctypeslib.ndpointer(dtype=np.float64)]\n",
    "\n",
    "flib.load_field_labels_f(c_int(ltr), field_name.encode(), ave_spec, sdev_spec)\n",
    "\n",
    "# Set modes for horiziontal axis\n",
    "for i in range(ltr+1):\n",
    "  lx[i] = i\n",
    "#  Plot degree 0 at x = 0.3 in log scale\n",
    "lx[0] = 0.3\n",
    "\n",
    "#  Start plotting\n",
    "# plt.plot(lx,ave_spec)\n",
    "plt.scatter(lx,ave_spec)\n",
    "# plt.errorbar(lx, ave_spec, yerr=sdev_spec, lolims=True,)\n",
    "\n",
    "plt.xlabel('degree - order')\n",
    "plt.ylabel('Magnetic energy')\n",
    "\n",
    "plt.xscale('log')\n",
    "plt.yscale('log')\n",
    "\n",
    "plt.show()"
   ]
  },
  {
   "cell_type": "code",
   "execution_count": null,
   "id": "c85e22cc-9e4c-4cd2-b01a-8b49fa119aea",
   "metadata": {},
   "outputs": [],
   "source": []
  },
  {
   "cell_type": "code",
   "execution_count": null,
   "id": "f0a7004c-0da7-4cea-b339-d7cce4579efc",
   "metadata": {},
   "outputs": [],
   "source": []
  }
 ],
 "metadata": {
  "kernelspec": {
   "display_name": "Python 3 (ipykernel)",
   "language": "python",
   "name": "python3"
  },
  "language_info": {
   "codemirror_mode": {
    "name": "ipython",
    "version": 3
   },
   "file_extension": ".py",
   "mimetype": "text/x-python",
   "name": "python",
   "nbconvert_exporter": "python",
   "pygments_lexer": "ipython3",
   "version": "3.10.4"
  }
 },
 "nbformat": 4,
 "nbformat_minor": 5
}
