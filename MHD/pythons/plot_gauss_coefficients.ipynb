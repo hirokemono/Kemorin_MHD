{
 "cells": [
  {
   "cell_type": "markdown",
   "id": "a1178fbc-402b-408c-9fcb-ee09630f0a46",
   "metadata": {
    "tags": []
   },
   "source": [
    "# Simple XY plot for Time evolution of Gauss coefficients\n",
    "\n",
    "This notebook generates time evolution plot of Gauss coefficients. The imput data file name is  [gauss_coef_prefix].dat."
   ]
  },
  {
   "cell_type": "markdown",
   "id": "f8d1ab2e-a78f-4b41-af9c-3735859a3c69",
   "metadata": {
    "tags": []
   },
   "source": [
    "## Initial setup"
   ]
  },
  {
   "cell_type": "code",
   "execution_count": 1,
   "id": "ce4ed476-71b8-46c8-b361-9322410156c8",
   "metadata": {},
   "outputs": [],
   "source": [
    "import sys\n",
    "import numpy as np\n",
    "import ipywidgets as widgets\n",
    "import matplotlib.pyplot as plt\n",
    "from ctypes import *"
   ]
  },
  {
   "cell_type": "markdown",
   "id": "983d2d25-e4c6-41e1-bff2-619135ff52ce",
   "metadata": {},
   "source": [
    "Move current directory to directory with data to be averaged"
   ]
  },
  {
   "cell_type": "code",
   "execution_count": 2,
   "id": "dd15c2fa-f5ad-4656-98e8-75a6cf3c0db1",
   "metadata": {},
   "outputs": [
    {
     "name": "stdout",
     "output_type": "stream",
     "text": [
      "/Volumes/Sources/matsui/Kemorin_MHD/MHD/pythons\n"
     ]
    }
   ],
   "source": [
    "%cd ./"
   ]
  },
  {
   "cell_type": "markdown",
   "id": "bee617e0-c612-4410-8f23-17b2b09cafd3",
   "metadata": {},
   "source": [
    "Check if shared libraly to load is there"
   ]
  },
  {
   "cell_type": "code",
   "execution_count": 3,
   "id": "0029b28e-1105-40ac-af0e-f211f9ed6944",
   "metadata": {
    "tags": []
   },
   "outputs": [
    {
     "name": "stdout",
     "output_type": "stream",
     "text": [
      "-rwxr-xr-x  1 matsui  staff  225893 Jun 21 07:35 \u001b[31mlibcalypso_to_pythons.so\u001b[m\u001b[m*\n"
     ]
    }
   ],
   "source": [
    "%ls -l \"libcalypso_to_pythons.so\""
   ]
  },
  {
   "cell_type": "markdown",
   "id": "1934d1e7-d5be-4147-820c-2efe4014a42f",
   "metadata": {},
   "source": [
    "Load dynamic library to run the program"
   ]
  },
  {
   "cell_type": "code",
   "execution_count": 4,
   "id": "03dbf930-019c-4a31-bc1e-4e01e7341970",
   "metadata": {},
   "outputs": [],
   "source": [
    "libname = \"libcalypso_to_pythons.so\"\n",
    "flib = cdll.LoadLibrary(libname)"
   ]
  },
  {
   "cell_type": "markdown",
   "id": "d801ff38-9af6-48fa-9111-42b3f758066c",
   "metadata": {
    "tags": []
   },
   "source": [
    "## Go to data directory"
   ]
  },
  {
   "cell_type": "markdown",
   "id": "7225df03-2f9a-4992-a08b-a08dfd209645",
   "metadata": {},
   "source": [
    "Move current directory to directory with data to be averaged"
   ]
  },
  {
   "cell_type": "code",
   "execution_count": 5,
   "id": "0f5eb804-6989-4ac3-9244-1bef3b892382",
   "metadata": {},
   "outputs": [
    {
     "name": "stdout",
     "output_type": "stream",
     "text": [
      "/Users/matsui/Desktop/sph_shell_275\n"
     ]
    }
   ],
   "source": [
    "cd ~/Desktop/sph_shell_275"
   ]
  },
  {
   "cell_type": "markdown",
   "id": "cfddb19d-7ec3-42c4-bc4e-27fa2cbc6a48",
   "metadata": {},
   "source": [
    "Check if data file to be averaged is there"
   ]
  },
  {
   "cell_type": "code",
   "execution_count": 6,
   "id": "1de18ee9-1194-4c3d-993c-f199de724f66",
   "metadata": {
    "tags": []
   },
   "outputs": [
    {
     "name": "stdout",
     "output_type": "stream",
     "text": [
      "total 1858912\n",
      "-rw-r--r--@ 1 matsui  staff    16168115 Feb  3  2020 Nusselt.dat\n",
      "-rw-r--r--  1 matsui  staff         169 Jun 17 19:35 control_sph_time_average\n",
      "-rw-r--r--  1 matsui  staff           0 Jun 17 22:22 fort.15\n",
      "-rw-r--r--@ 1 matsui  staff    54896170 Feb  3  2020 gauss_coefs_Re.dat\n",
      "-rw-r--r--@ 1 matsui  staff  1678130042 Feb  3  2020 picked_mode.dat\n",
      "-rw-r--r--@ 1 matsui  staff    76516572 Feb  3  2020 sph_ave_volume.dat\n",
      "-rw-r--r--@ 1 matsui  staff    76704980 Feb  3  2020 sph_pwr_volume_s.dat\n",
      "-rw-r--r--  1 matsui  staff      228252 Jun 21 07:36 t_ave_picked_mode.dat\n",
      "-rw-r--r--  1 matsui  staff      304336 Jun 21 07:36 t_rms_picked_mode.dat\n",
      "-rw-r--r--  1 matsui  staff      532588 Jun 21 07:36 t_sigma_picked_mode.dat\n"
     ]
    }
   ],
   "source": [
    "ls -l"
   ]
  },
  {
   "cell_type": "markdown",
   "id": "c1f91240-d02c-41e3-9b84-3f404e43b70b",
   "metadata": {
    "tags": []
   },
   "source": [
    "## Set file name to read and check the avaiable Gauss coefficient modes\n",
    "The file name is defined by [file_name]. The beginning part of the data file [file_name] is read and listed field or component names to be stored."
   ]
  },
  {
   "cell_type": "code",
   "execution_count": 8,
   "id": "402b9498-5d25-4330-9227-6599c46f66ae",
   "metadata": {},
   "outputs": [
    {
     "name": "stdout",
     "output_type": "stream",
     "text": [
      " Open file: gauss_coefs_Re.dat\n",
      " Start step and time:          100   2.0000000000000001E-004\n",
      " End step and time:     18800000   37.599999995310803     \n",
      " Saved Gauss coefficients at r =    2.8199999999999998      : \n",
      "           1 h1_1\n",
      "           2 g1_0\n",
      "           3 h3_1\n",
      "           4 g3_0\n",
      "           5 h3_2\n",
      "           6 h3_3\n",
      "           7 g1_1\n",
      "           8 g3_1\n",
      "           9 g3_2\n",
      "          10 g3_3\n"
     ]
    },
    {
     "data": {
      "text/plain": [
       "1"
      ]
     },
     "execution_count": 8,
     "metadata": {},
     "output_type": "execute_result"
    }
   ],
   "source": [
    "file_name = \"gauss_coefs_Re.dat\"\n",
    "# Check time range and modes in data file\n",
    "flib.check_gauss_coef_series_f.restype = c_void_p\n",
    "flib.check_gauss_coef_series_f.argtypes = [c_char_p]\n",
    "\n",
    "flib.check_gauss_coef_series_f(file_name.encode())"
   ]
  },
  {
   "cell_type": "code",
   "execution_count": 9,
   "id": "7fc7eb3b-89a6-4829-a39e-0b7021af9b3d",
   "metadata": {},
   "outputs": [
    {
     "name": "stdout",
     "output_type": "stream",
     "text": [
      " Open file: gauss_coefs_Re.dat\n",
      "# of time series:  Start step and time:    20.000199998534899        25.000199994792901            25001\n",
      " 25001\n"
     ]
    }
   ],
   "source": [
    "start_time = 20.0\n",
    "end_time =   25.0\n",
    "# Load time series of the Gauss coefficients\n",
    "flib.load_gauss_coefs_series_f.restype = c_void_p\n",
    "flib.load_gauss_coefs_series_f.argtypes = [c_char_p, c_double, c_double]\n",
    "\n",
    "n_step = flib.load_gauss_coefs_series_f(file_name.encode(),\n",
    "                                       c_double(start_time), c_double(end_time))\n",
    "print(\"# of time series: \", n_step)"
   ]
  },
  {
   "cell_type": "markdown",
   "id": "cd8a557b-f736-424a-a331-9c6d87b6a0ad",
   "metadata": {
    "tags": []
   },
   "source": [
    "## Select Gauss coefficients names to be plotted\n",
    "A list of component names are defined in 'field_name'. \n",
    "Time and data to be plotted are loaded into array 'time' and 'series', respectively."
   ]
  },
  {
   "cell_type": "code",
   "execution_count": 10,
   "id": "8966aa92-9581-46bd-b23b-fe489eb447a3",
   "metadata": {},
   "outputs": [
    {
     "name": "stdout",
     "output_type": "stream",
     "text": [
      "10000100 20.0001999985349\n",
      "12500100 25.0001999947929\n",
      "['g1_0', 'g1_1', 'h1_1']\n",
      "g1_0\n",
      " coef_nameg1_0                                                                                                                                                                                                                                                           \n",
      "g1_1\n",
      " coef_nameg1_1                                                                                                                                                                                                                                                           \n",
      "h1_1\n",
      " coef_nameh1_1                                                                                                                                                                                                                                                           \n"
     ]
    }
   ],
   "source": [
    "# Set component name to be plotted\n",
    "field_name = [\"g1_0\", \n",
    "              \"g1_1\", \n",
    "              \"h1_1\"]\n",
    "n_line = len(field_name)\n",
    "\n",
    "# Allocate time series data to read\n",
    "i_step = np.zeros((n_step),dtype=np.int32)\n",
    "time =   np.zeros((n_step),dtype=np.float64)\n",
    "series = np.zeros((0),dtype=np.float64)\n",
    "series_in = np.zeros((n_step),dtype=np.float64)\n",
    "\n",
    "# Find compoenent address to plot\n",
    "flib.get_gauss_coefs_time_f.restype = c_void_p\n",
    "flib.get_gauss_coefs_time_f.argtypes = [c_int, np.ctypeslib.ndpointer(dtype=np.int32), \n",
    "                                              np.ctypeslib.ndpointer(dtype=np.float64)]\n",
    "flib.get_gauss_coefs_time_f(c_int(n_step), i_step, time)\n",
    "\n",
    "print(i_step[0], time[0])\n",
    "print(i_step[n_step-1], time[n_step-1])\n",
    "\n",
    "flib.get_each_gauss_coef_series_f.restype = c_void_p\n",
    "flib.get_each_gauss_coef_series_f.argtypes = [c_char_p, c_int,\n",
    "                                              np.ctypeslib.ndpointer(dtype=np.float64)]\n",
    "icou = 0\n",
    "print(field_name)\n",
    "for eachh_field in field_name:\n",
    "    print(eachh_field)\n",
    "    flib.get_each_gauss_coef_series_f(eachh_field.encode(), c_int(n_step), series_in)\n",
    "    series = np.append(series, series_in)\n",
    "    icou = icou+1"
   ]
  },
  {
   "cell_type": "markdown",
   "id": "65073fee-3d17-4baa-a9c8-23712e8eb5e6",
   "metadata": {
    "tags": []
   },
   "source": [
    "## Make a time evolution plot\n",
    "The each time series data are expanded into each_series, and plotted into the line plot.\n",
    "Please upgreade to more beautiful plot by yourself."
   ]
  },
  {
   "cell_type": "code",
   "execution_count": 11,
   "id": "50f3e9d4-ae5e-442c-b017-c2e6d7b3dac3",
   "metadata": {},
   "outputs": [
    {
     "data": {
      "image/png": "[encoded data removed]",
      "text/plain": [
       "<Figure size 432x288 with 1 Axes>"
      ]
     },
     "metadata": {
      "needs_background": "light"
     },
     "output_type": "display_data"
    }
   ],
   "source": [
    "# Plot each component\n",
    "for icou in range(n_line):\n",
    "    plt.plot(time, series[icou*n_step:(icou+1)*n_step], label=(field_name[icou]))\n",
    "\n",
    "# Set graph configurations\n",
    "plt.xticks(fontsize='x-large')\n",
    "plt.yticks(fontsize='x-large')\n",
    "plt.xlabel('Time', fontsize='xx-large')\n",
    "plt.ylabel('Coefficient', fontsize='xx-large')\n",
    "legend = plt.legend(loc='upper right', shadow=True, fontsize='medium')\n",
    "\n",
    "# plt.savefig(\"picked.pdf\")\n",
    "plt.show()"
   ]
  },
  {
   "cell_type": "code",
   "execution_count": null,
   "id": "5184e9bf-fcc4-456b-ae84-0a2bebf8e28b",
   "metadata": {},
   "outputs": [],
   "source": []
  }
 ],
 "metadata": {
  "kernelspec": {
   "display_name": "Python 3 (ipykernel)",
   "language": "python",
   "name": "python3"
  },
  "language_info": {
   "codemirror_mode": {
    "name": "ipython",
    "version": 3
   },
   "file_extension": ".py",
   "mimetype": "text/x-python",
   "name": "python",
   "nbconvert_exporter": "python",
   "pygments_lexer": "ipython3",
   "version": "3.10.4"
  }
 },
 "nbformat": 4,
 "nbformat_minor": 5
}
