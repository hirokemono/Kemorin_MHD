{
 "cells": [
  {
   "cell_type": "markdown",
   "id": "a1178fbc-402b-408c-9fcb-ee09630f0a46",
   "metadata": {
    "tags": []
   },
   "source": [
    "# Notebook to generate time averaged Nusselt number.\n",
    "# Title Notebook to generate time averaged Dipolarity.\n",
    "\n",
    "This notebook generates time average and standard deviations of dipolarity. Input file is defined by\n",
    "[Nusselt_prefix].dat in the control file"
   ]
  },
  {
   "cell_type": "markdown",
   "id": "6e2d245c-0b97-47b2-b93e-f38f1b023efe",
   "metadata": {
    "jp-MarkdownHeadingCollapsed": true,
    "tags": []
   },
   "source": [
    "## Initial setup"
   ]
  },
  {
   "cell_type": "code",
   "execution_count": 1,
   "id": "ce4ed476-71b8-46c8-b361-9322410156c8",
   "metadata": {},
   "outputs": [],
   "source": [
    "import sys\n",
    "import numpy as np\n",
    "from ctypes import *\n",
    "\n",
    "libname = \"libcalypso_to_pythons.so\""
   ]
  },
  {
   "cell_type": "markdown",
   "id": "983d2d25-e4c6-41e1-bff2-619135ff52ce",
   "metadata": {},
   "source": [
    "Move current directory to directory with data to be averaged"
   ]
  },
  {
   "cell_type": "code",
   "execution_count": 2,
   "id": "dd15c2fa-f5ad-4656-98e8-75a6cf3c0db1",
   "metadata": {},
   "outputs": [
    {
     "name": "stdout",
     "output_type": "stream",
     "text": [
      "/Volumes/Sources/matsui/Kemorin_MHD/pythons\n"
     ]
    }
   ],
   "source": [
    "cd ./"
   ]
  },
  {
   "cell_type": "markdown",
   "id": "bee617e0-c612-4410-8f23-17b2b09cafd3",
   "metadata": {},
   "source": [
    "Check if shared libraly to load is there"
   ]
  },
  {
   "cell_type": "code",
   "execution_count": 3,
   "id": "0029b28e-1105-40ac-af0e-f211f9ed6944",
   "metadata": {
    "tags": []
   },
   "outputs": [
    {
     "name": "stdout",
     "output_type": "stream",
     "text": [
      "-rwxr-xr-x  1 matsui  staff  183541 Jun  8 19:59 \u001b[31mlibcalypso_to_pythons.so\u001b[m\u001b[m*\n"
     ]
    }
   ],
   "source": [
    "ls -l \"libcalypso_to_pythons.so\""
   ]
  },
  {
   "cell_type": "markdown",
   "id": "1934d1e7-d5be-4147-820c-2efe4014a42f",
   "metadata": {},
   "source": [
    "Load dynamic library to run the program"
   ]
  },
  {
   "cell_type": "code",
   "execution_count": 4,
   "id": "03dbf930-019c-4a31-bc1e-4e01e7341970",
   "metadata": {},
   "outputs": [],
   "source": [
    "flib = cdll.LoadLibrary(\"libcalypso_to_pythons.so\")\n",
    "flib.time_average_nusselt_c.restype = c_int\n",
    "flib.time_average_nusselt_c.argtypes = [c_char_p, c_double, c_double]"
   ]
  },
  {
   "cell_type": "markdown",
   "id": "9a1f0148-ad2c-400c-9b3f-5090b6924f5a",
   "metadata": {
    "tags": []
   },
   "source": [
    "## Go to data directory"
   ]
  },
  {
   "cell_type": "markdown",
   "id": "7225df03-2f9a-4992-a08b-a08dfd209645",
   "metadata": {},
   "source": [
    "Move current directory to directory with data to be averaged"
   ]
  },
  {
   "cell_type": "code",
   "execution_count": 5,
   "id": "0f5eb804-6989-4ac3-9244-1bef3b892382",
   "metadata": {},
   "outputs": [
    {
     "name": "stdout",
     "output_type": "stream",
     "text": [
      "/Users/matsui/Desktop/sph_shell_456/monitor\n"
     ]
    }
   ],
   "source": [
    "cd ~/Desktop/sph_shell_456/monitor"
   ]
  },
  {
   "cell_type": "markdown",
   "id": "cfddb19d-7ec3-42c4-bc4e-27fa2cbc6a48",
   "metadata": {},
   "source": [
    "Check if data file to be averaged is there"
   ]
  },
  {
   "cell_type": "code",
   "execution_count": 6,
   "id": "1de18ee9-1194-4c3d-993c-f199de724f66",
   "metadata": {
    "tags": []
   },
   "outputs": [
    {
     "name": "stdout",
     "output_type": "stream",
     "text": [
      "total 1763524\n",
      "-rw-r--r--  1 matsui  staff          0 Jun  8 19:40  Nusselt.dat\n",
      "-rw-rw-r--  1 matsui  staff     602115 May  9 02:30 Nusselt.dat\n",
      "-rw-r--r--  1 matsui  staff        155 Jun  8 19:51 control_sph_time_average\n",
      "-rw-r--r--  1 matsui  staff        155 Jun  8 19:51 control_sph_time_average~\n",
      "-rw-rw-r--  1 matsui  staff     441092 May  9 02:30 dipolarity.dat\n",
      "-rw-rw-r--  1 matsui  staff     819114 May  9 02:30 gauss_coefs_Re.dat\n",
      "-rw-rw-r--  1 matsui  staff    2849572 May  9 02:30 sph_ave_volume.dat\n",
      "-rw-rw-r--  1 matsui  staff  311136492 May  9 02:30 sph_pwr_layer_l.dat\n",
      "-rw-rw-r--  1 matsui  staff  311136500 May  9 02:30 sph_pwr_layer_lm.dat\n",
      "-rw-rw-r--  1 matsui  staff  311136491 May  9 02:30 sph_pwr_layer_m.dat\n",
      "-rw-rw-r--  1 matsui  staff    3129484 May  9 02:30 sph_pwr_layer_m0.dat\n",
      "-rw-rw-r--  1 matsui  staff    3129484 May  9 02:30 sph_pwr_layer_s.dat\n",
      "-rw-rw-r--  1 matsui  staff  284928582 May  9 02:30 sph_pwr_volume_l.dat\n",
      "-rw-rw-r--  1 matsui  staff  284928590 May  9 02:30 sph_pwr_volume_lm.dat\n",
      "-rw-rw-r--  1 matsui  staff  284928581 May  9 02:30 sph_pwr_volume_m.dat\n",
      "-rw-rw-r--  1 matsui  staff    2856572 May  9 02:30 sph_pwr_volume_m0.dat\n",
      "-rw-rw-r--  1 matsui  staff    2856572 May  9 02:30 sph_pwr_volume_s.dat\n",
      "-rw-rw-r--  1 matsui  staff     924074 May  9 02:30 typical_scale.dat\n"
     ]
    }
   ],
   "source": [
    "ls -l"
   ]
  },
  {
   "cell_type": "markdown",
   "id": "01ea195b-10f7-46f0-b132-47fa5916acf5",
   "metadata": {
    "tags": []
   },
   "source": [
    "## Time averaging for volume mean square and average\n",
    "\n",
    "Take time average of [Nusselt_prefix].dat\n"
   ]
  },
  {
   "cell_type": "markdown",
   "id": "82664ef4-7d8c-4237-a5c4-2f63872d4c25",
   "metadata": {},
   "source": [
    "Set file prefix (excluding \".dat\") to be averaged as file_prefix, start time as start_time, and end time as end_time."
   ]
  },
  {
   "cell_type": "code",
   "execution_count": 7,
   "id": "d268c995-3401-46f0-a1ea-7267ccef88c3",
   "metadata": {},
   "outputs": [],
   "source": [
    "file_prefix = \"Nusselt\"\n",
    "start_time = 5.0\n",
    "end_time =  12.0"
   ]
  },
  {
   "cell_type": "markdown",
   "id": "40ec9e22-e8b3-4a15-9828-44339526bd5a",
   "metadata": {},
   "source": [
    "Start time average program. \n",
    "time average data will be \"t_ave_[file_prefix].dat\",\n",
    "and standard deviation will be \"t_sdev_[file_prefix].dat\"."
   ]
  },
  {
   "cell_type": "code",
   "execution_count": 8,
   "id": "6bd4b87e-c381-427f-a5ff-40099798cc00",
   "metadata": {},
   "outputs": [
    {
     "name": "stdout",
     "output_type": "stream",
     "text": [
      " Nu_t%Nusselt_file_head: Nusselt                                                                                                                                                                                                                                                        \n",
      " start_time:    5.0000000000000000        12.000000000000000     \n",
      "step=           1  averaging finished. Count=             0\n",
      "step=     1200200  deviation finished. Count=          3501\n",
      "Inner and outer radius:    3.333333333333333E-001   1.333333333333333E+000\n",
      "Start and end time:        5.001999999979800E+000   1.200000000000000E+001\n",
      "Average and Std. Dev. of Nu at ICB:\n",
      "   1.796800618499902E+000   1.121128206068471E-001\n",
      "Average and Std. Dev. of Nu at CMB:\n",
      "   1.795070255535591E+000   1.306922864096849E-001\n"
     ]
    }
   ],
   "source": [
    "n = flib.time_average_nusselt_c(file_prefix.encode(), c_double(start_time), c_double(end_time))"
   ]
  }
 ],
 "metadata": {
  "kernelspec": {
   "display_name": "Python 3 (ipykernel)",
   "language": "python",
   "name": "python3"
  },
  "language_info": {
   "codemirror_mode": {
    "name": "ipython",
    "version": 3
   },
   "file_extension": ".py",
   "mimetype": "text/x-python",
   "name": "python",
   "nbconvert_exporter": "python",
   "pygments_lexer": "ipython3",
   "version": "3.10.4"
  }
 },
 "nbformat": 4,
 "nbformat_minor": 5
}
