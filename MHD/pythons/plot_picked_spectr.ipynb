{
 "cells": [
  {
   "cell_type": "markdown",
   "id": "a1178fbc-402b-408c-9fcb-ee09630f0a46",
   "metadata": {
    "tags": []
   },
   "source": [
    "# Simple XY plot for Time evolution of picked mode\n",
    "\n",
    "This notebook generates time evolution plot of spectr data. The imput date is  [picked sph prefix] l[degree#] m[order#][c/s].dat."
   ]
  },
  {
   "cell_type": "markdown",
   "id": "f8d1ab2e-a78f-4b41-af9c-3735859a3c69",
   "metadata": {
    "tags": []
   },
   "source": [
    "## Initial setup"
   ]
  },
  {
   "cell_type": "code",
   "execution_count": 1,
   "id": "ce4ed476-71b8-46c8-b361-9322410156c8",
   "metadata": {},
   "outputs": [],
   "source": [
    "import sys\n",
    "import numpy as np\n",
    "import ipywidgets as widgets\n",
    "import matplotlib.pyplot as plt\n",
    "from ctypes import *"
   ]
  },
  {
   "cell_type": "markdown",
   "id": "983d2d25-e4c6-41e1-bff2-619135ff52ce",
   "metadata": {},
   "source": [
    "Move current directory to directory with data to be averaged"
   ]
  },
  {
   "cell_type": "code",
   "execution_count": 2,
   "id": "dd15c2fa-f5ad-4656-98e8-75a6cf3c0db1",
   "metadata": {},
   "outputs": [
    {
     "name": "stdout",
     "output_type": "stream",
     "text": [
      "/Volumes/Sources/matsui/Kemorin_MHD/MHD/pythons\n"
     ]
    }
   ],
   "source": [
    "%cd ./"
   ]
  },
  {
   "cell_type": "markdown",
   "id": "bee617e0-c612-4410-8f23-17b2b09cafd3",
   "metadata": {},
   "source": [
    "Check if shared libraly to load is there"
   ]
  },
  {
   "cell_type": "code",
   "execution_count": 3,
   "id": "0029b28e-1105-40ac-af0e-f211f9ed6944",
   "metadata": {
    "tags": []
   },
   "outputs": [
    {
     "name": "stdout",
     "output_type": "stream",
     "text": [
      "-rwxr-xr-x  1 matsui  staff  225893 Jun 21 07:35 \u001b[31mlibcalypso_to_pythons.so\u001b[m\u001b[m*\n"
     ]
    }
   ],
   "source": [
    "%ls -l \"libcalypso_to_pythons.so\""
   ]
  },
  {
   "cell_type": "markdown",
   "id": "1934d1e7-d5be-4147-820c-2efe4014a42f",
   "metadata": {},
   "source": [
    "Load dynamic library to run the program"
   ]
  },
  {
   "cell_type": "code",
   "execution_count": 4,
   "id": "03dbf930-019c-4a31-bc1e-4e01e7341970",
   "metadata": {},
   "outputs": [],
   "source": [
    "libname = \"libcalypso_to_pythons.so\"\n",
    "flib = cdll.LoadLibrary(libname)"
   ]
  },
  {
   "cell_type": "markdown",
   "id": "d801ff38-9af6-48fa-9111-42b3f758066c",
   "metadata": {
    "tags": []
   },
   "source": [
    "## Go to data directory"
   ]
  },
  {
   "cell_type": "markdown",
   "id": "7225df03-2f9a-4992-a08b-a08dfd209645",
   "metadata": {},
   "source": [
    "Move current directory to directory with data to be averaged"
   ]
  },
  {
   "cell_type": "code",
   "execution_count": 5,
   "id": "0f5eb804-6989-4ac3-9244-1bef3b892382",
   "metadata": {},
   "outputs": [
    {
     "name": "stdout",
     "output_type": "stream",
     "text": [
      "/Users/matsui/Desktop/sph_shell_275\n"
     ]
    }
   ],
   "source": [
    "cd ~/Desktop/sph_shell_275"
   ]
  },
  {
   "cell_type": "markdown",
   "id": "cfddb19d-7ec3-42c4-bc4e-27fa2cbc6a48",
   "metadata": {},
   "source": [
    "Check if data file to be averaged is there"
   ]
  },
  {
   "cell_type": "code",
   "execution_count": 6,
   "id": "1de18ee9-1194-4c3d-993c-f199de724f66",
   "metadata": {
    "tags": []
   },
   "outputs": [
    {
     "name": "stdout",
     "output_type": "stream",
     "text": [
      "total 1858912\n",
      "-rw-r--r--@ 1 matsui  staff    16168115 Feb  3  2020 Nusselt.dat\n",
      "-rw-r--r--  1 matsui  staff         169 Jun 17 19:35 control_sph_time_average\n",
      "-rw-r--r--  1 matsui  staff           0 Jun 17 22:22 fort.15\n",
      "-rw-r--r--@ 1 matsui  staff    54896170 Feb  3  2020 gauss_coefs_Re.dat\n",
      "-rw-r--r--@ 1 matsui  staff  1678130042 Feb  3  2020 picked_mode.dat\n",
      "-rw-r--r--@ 1 matsui  staff    76516572 Feb  3  2020 sph_ave_volume.dat\n",
      "-rw-r--r--@ 1 matsui  staff    76704980 Feb  3  2020 sph_pwr_volume_s.dat\n",
      "-rw-r--r--  1 matsui  staff      228252 Jun 21 07:36 t_ave_picked_mode.dat\n",
      "-rw-r--r--  1 matsui  staff      304336 Jun 21 07:36 t_rms_picked_mode.dat\n",
      "-rw-r--r--  1 matsui  staff      532588 Jun 21 07:36 t_sigma_picked_mode.dat\n"
     ]
    }
   ],
   "source": [
    "ls -l"
   ]
  },
  {
   "cell_type": "markdown",
   "id": "c1f91240-d02c-41e3-9b84-3f404e43b70b",
   "metadata": {
    "tags": []
   },
   "source": [
    "## Set file name to read and check the data entities\n",
    "The file name is defined by [file_name]. The beginning part of the data file [file_name] is read and listed field or component names to be stored."
   ]
  },
  {
   "cell_type": "code",
   "execution_count": 7,
   "id": "402b9498-5d25-4330-9227-6599c46f66ae",
   "metadata": {},
   "outputs": [
    {
     "name": "stdout",
     "output_type": "stream",
     "text": [
      " Open file: picked_mode.dat\n",
      " Start step and time:      9748700   19.497399998911199     \n",
      " End step and time:     18800000   37.599999995310803     \n",
      " Saved hermonics mode:\n",
      "           1           0           0\n",
      "           4           1          -1\n",
      "           7           1           0\n",
      "          10           2          -1\n",
      "          13           2           0\n",
      "          16           3           0\n",
      "          19           2          -2\n",
      "          22           3          -2\n",
      "          25           1           1\n",
      "          28           2           1\n",
      "          31           2           2\n",
      "          34           3           2\n",
      " Saved radial points:\n",
      "           1           1  0.53846153846153799     \n",
      "           2         113   1.0384615384615401     \n",
      "           3         225   1.5384615384615401     \n",
      " Saved field names:\n",
      "           1 velocity_pol\n",
      "           2 velocity_tor\n",
      "           3 velocity_pol_dr\n",
      "           4 temperature\n",
      "           5 vorticity_pol\n",
      "           6 vorticity_tor\n",
      "           7 vorticity_pol_dr\n",
      "           8 pressure\n",
      "           9 magnetic_field_pol\n",
      "          10 magnetic_field_tor\n",
      "          11 magnetic_field_pol_dr\n",
      "          12 current_density_pol\n",
      "          13 current_density_tor\n",
      "          14 current_density_pol_dr\n",
      "          15 buoyancy_flux\n",
      "          16 Lorentz_work\n"
     ]
    },
    {
     "data": {
      "text/plain": [
       "4429218304"
      ]
     },
     "execution_count": 7,
     "metadata": {},
     "output_type": "execute_result"
    }
   ],
   "source": [
    "file_name = \"picked_mode.dat\"\n",
    "# Load time average and standard deviation\n",
    "flib.check_picked_sph_spectr_f.restype = c_void_p\n",
    "flib.check_picked_sph_spectr_f.argtypes = [c_char_p]\n",
    "\n",
    "flib.check_picked_sph_spectr_f(file_name.encode())"
   ]
  },
  {
   "cell_type": "code",
   "execution_count": 8,
   "id": "7fc7eb3b-89a6-4829-a39e-0b7021af9b3d",
   "metadata": {},
   "outputs": [
    {
     "name": "stdout",
     "output_type": "stream",
     "text": [
      " Open file: picked_mode.dat\n",
      "# of time series:  5001\n"
     ]
    }
   ],
   "source": [
    "start_time = 22.0\n",
    "end_time =   23.0\n",
    "# Load time average and standard deviation\n",
    "flib.load_picked_sph_spectr_f.restype = c_void_p\n",
    "flib.load_picked_sph_spectr_f.argtypes = [c_char_p, c_double, c_double]\n",
    "\n",
    "n_step = flib.load_picked_sph_spectr_f(file_name.encode(),\n",
    "                                       c_double(start_time), c_double(end_time))\n",
    "print(\"# of time series: \", n_step)"
   ]
  },
  {
   "cell_type": "markdown",
   "id": "cd8a557b-f736-424a-a331-9c6d87b6a0ad",
   "metadata": {
    "tags": []
   },
   "source": [
    "## Select component names to be plotted\n",
    "A list of component names are defined in 'field_name'. \n",
    "Time and data to be plotted are loaded into array 'time' and 'series', respectively."
   ]
  },
  {
   "cell_type": "code",
   "execution_count": 9,
   "id": "8966aa92-9581-46bd-b23b-fe489eb447a3",
   "metadata": {},
   "outputs": [
    {
     "name": "stdout",
     "output_type": "stream",
     "text": [
      "11000100 22.0001999970381\n",
      "11500100 23.0001999962897\n",
      "['magnetic_field_pol', 'magnetic_field_pol', 'temperature']\n",
      "magnetic_field_pol\n",
      " draw_namemagnetic_field_pol                                                                                                                                                                                                                                             \n",
      " id_mode, id_comp           9           9\n",
      "magnetic_field_pol\n",
      " draw_namemagnetic_field_pol                                                                                                                                                                                                                                             \n",
      " id_mode, id_comp          12           9\n",
      "temperature\n",
      " draw_nametemperature                                                                                                                                                                                                                                                    \n",
      " id_mode, id_comp          30           4\n"
     ]
    }
   ],
   "source": [
    "# Set component name to be plotted\n",
    "field_name = [\"magnetic_field_pol\", \n",
    "              \"magnetic_field_pol\", \n",
    "              \"temperature\"]\n",
    "degree =    [1, 2,2]\n",
    "order =     [0,-1,1]\n",
    "radius_id = [225,225,225]\n",
    "\n",
    "if len(degree) != len(order):\n",
    "  print(\"Number of harmonics degree and order does not match\")\n",
    "  stop\n",
    "if len(radius_id) != len(degree):\n",
    "  print(\"Number of harmonics modes and radial grids does not match\")\n",
    "  stop\n",
    "if len(field_name) != len(degree):\n",
    "  print(\"Number of field_name and number of harmonics modes does not match\")\n",
    "  stop\n",
    "n_line = len(field_name)\n",
    "\n",
    "# Allocate time series data to read\n",
    "i_step = np.zeros((n_step),dtype=np.int32)\n",
    "time =   np.zeros((n_step),dtype=np.float64)\n",
    "series = np.zeros((0),dtype=np.float64)\n",
    "series_in = np.zeros((n_step),dtype=np.float64)\n",
    "\n",
    "# Find compoenent address to plot\n",
    "flib.get_picked_sph_time_f.restype = c_void_p\n",
    "flib.get_picked_sph_time_f.argtypes = [c_int, np.ctypeslib.ndpointer(dtype=np.int32), \n",
    "                                              np.ctypeslib.ndpointer(dtype=np.float64)]\n",
    "flib.get_picked_sph_time_f(c_int(n_step), i_step, time)\n",
    "\n",
    "print(i_step[0], time[0])\n",
    "print(i_step[n_step-1], time[n_step-1])\n",
    "\n",
    "flib.get_each_picked_sph_series_f.restype = c_void_p\n",
    "flib.get_each_picked_sph_series_f.argtypes = [c_char_p, c_int, c_int, c_int, c_int,\n",
    "                                          np.ctypeslib.ndpointer(dtype=np.float64)]\n",
    "icou = 0\n",
    "print(field_name)\n",
    "for eachh_field in field_name:\n",
    "    print(eachh_field)\n",
    "    flib.get_each_picked_sph_series_f(eachh_field.encode(), c_int(radius_id[icou]),\n",
    "                              c_int(degree[icou]), c_int(order[icou]), c_int(n_step),\n",
    "                              series_in)\n",
    "    series = np.append(series, series_in)\n",
    "    icou = icou+1"
   ]
  },
  {
   "cell_type": "markdown",
   "id": "65073fee-3d17-4baa-a9c8-23712e8eb5e6",
   "metadata": {
    "tags": []
   },
   "source": [
    "## Make a time evolution plot\n",
    "The each time series data are expanded into each_series, and plotted into the line plot.\n",
    "Please upgreade to more beautiful plot by yourself."
   ]
  },
  {
   "cell_type": "code",
   "execution_count": 10,
   "id": "50f3e9d4-ae5e-442c-b017-c2e6d7b3dac3",
   "metadata": {},
   "outputs": [
    {
     "data": {
      "image/png": "[encoded data removed]",
      "text/plain": [
       "<Figure size 432x288 with 1 Axes>"
      ]
     },
     "metadata": {
      "needs_background": "light"
     },
     "output_type": "display_data"
    }
   ],
   "source": [
    "# Plot each component\n",
    "for icou in range(n_line):\n",
    "    label1 = \" r=\"+str(radius_id[icou])\n",
    "    label2 = \" l=\"+str(degree[icou])\n",
    "    label3 = \" m=\"+str(order[icou])\n",
    "    label = field_name[icou]+label1+label2+label3\n",
    "\n",
    "    plt.plot(time, series[icou*n_step:(icou+1)*n_step], label=(label))\n",
    "\n",
    "# Set graph configurations\n",
    "plt.xticks(fontsize='x-large')\n",
    "plt.yticks(fontsize='x-large')\n",
    "plt.xlabel('Time', fontsize='xx-large')\n",
    "plt.ylabel('Coefficient', fontsize='xx-large')\n",
    "legend = plt.legend(loc='upper right', shadow=True, fontsize='medium')\n",
    "\n",
    "# plt.savefig(\"picked.pdf\")\n",
    "plt.show()"
   ]
  },
  {
   "cell_type": "code",
   "execution_count": null,
   "id": "f0a7004c-0da7-4cea-b339-d7cce4579efc",
   "metadata": {},
   "outputs": [],
   "source": []
  }
 ],
 "metadata": {
  "kernelspec": {
   "display_name": "Python 3 (ipykernel)",
   "language": "python",
   "name": "python3"
  },
  "language_info": {
   "codemirror_mode": {
    "name": "ipython",
    "version": 3
   },
   "file_extension": ".py",
   "mimetype": "text/x-python",
   "name": "python",
   "nbconvert_exporter": "python",
   "pygments_lexer": "ipython3",
   "version": "3.10.4"
  }
 },
 "nbformat": 4,
 "nbformat_minor": 5
}
