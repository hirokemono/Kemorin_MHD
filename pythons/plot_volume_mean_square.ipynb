{
 "cells": [
  {
   "cell_type": "markdown",
   "id": "a1178fbc-402b-408c-9fcb-ee09630f0a46",
   "metadata": {
    "tags": []
   },
   "source": [
    "# Simple XY plot for Time evolution of mean squares\n",
    "\n",
    "This notebook generates time evolution plot of mean squre data averaged over spherical shell. The imput date is one of these files.\n",
    "1. Volume mean square and average\n",
    "    * [vol_ave_prefix].dat\n",
    "    * [vol_pwr_prefix]_s.dat\n",
    "    * [vol_pwr_prefix]_m0.dat\n",
    "    * [typical scale prefix].dat\n",
    "\n",
    "In this example, [vol_pwr_prefix]_s.dat is used."
   ]
  },
  {
   "cell_type": "markdown",
   "id": "f8d1ab2e-a78f-4b41-af9c-3735859a3c69",
   "metadata": {
    "jp-MarkdownHeadingCollapsed": true,
    "tags": []
   },
   "source": [
    "## Initial setup"
   ]
  },
  {
   "cell_type": "code",
   "execution_count": 1,
   "id": "ce4ed476-71b8-46c8-b361-9322410156c8",
   "metadata": {},
   "outputs": [],
   "source": [
    "import sys\n",
    "import numpy as np\n",
    "import ipywidgets as widgets\n",
    "import matplotlib.pyplot as plt\n",
    "from ctypes import *"
   ]
  },
  {
   "cell_type": "markdown",
   "id": "983d2d25-e4c6-41e1-bff2-619135ff52ce",
   "metadata": {},
   "source": [
    "Move current directory to directory with data to be averaged"
   ]
  },
  {
   "cell_type": "code",
   "execution_count": 2,
   "id": "dd15c2fa-f5ad-4656-98e8-75a6cf3c0db1",
   "metadata": {},
   "outputs": [
    {
     "name": "stdout",
     "output_type": "stream",
     "text": [
      "/Volumes/Sources/matsui/Kemorin_MHD/pythons\n"
     ]
    }
   ],
   "source": [
    "%cd ./"
   ]
  },
  {
   "cell_type": "markdown",
   "id": "bee617e0-c612-4410-8f23-17b2b09cafd3",
   "metadata": {},
   "source": [
    "Check if shared libraly to load is there"
   ]
  },
  {
   "cell_type": "code",
   "execution_count": 3,
   "id": "0029b28e-1105-40ac-af0e-f211f9ed6944",
   "metadata": {
    "tags": []
   },
   "outputs": [
    {
     "name": "stdout",
     "output_type": "stream",
     "text": [
      "-rwxr-xr-x@ 1 matsui  staff  153429 Jun 12 22:19 \u001b[31mlibcalypso_to_pythons.so\u001b[m\u001b[m*\n"
     ]
    }
   ],
   "source": [
    "%ls -l \"libcalypso_to_pythons.so\""
   ]
  },
  {
   "cell_type": "markdown",
   "id": "1934d1e7-d5be-4147-820c-2efe4014a42f",
   "metadata": {},
   "source": [
    "Load dynamic library to run the program"
   ]
  },
  {
   "cell_type": "code",
   "execution_count": 4,
   "id": "03dbf930-019c-4a31-bc1e-4e01e7341970",
   "metadata": {},
   "outputs": [],
   "source": [
    "libname = \"libcalypso_to_pythons.so\"\n",
    "flib = cdll.LoadLibrary(libname)"
   ]
  },
  {
   "cell_type": "markdown",
   "id": "d801ff38-9af6-48fa-9111-42b3f758066c",
   "metadata": {
    "jp-MarkdownHeadingCollapsed": true,
    "tags": []
   },
   "source": [
    "## Go to data directory"
   ]
  },
  {
   "cell_type": "markdown",
   "id": "7225df03-2f9a-4992-a08b-a08dfd209645",
   "metadata": {},
   "source": [
    "Move current directory to directory with data to be averaged"
   ]
  },
  {
   "cell_type": "code",
   "execution_count": 5,
   "id": "0f5eb804-6989-4ac3-9244-1bef3b892382",
   "metadata": {},
   "outputs": [
    {
     "name": "stdout",
     "output_type": "stream",
     "text": [
      "/Users/matsui/Desktop/sph_shell_456/monitor\n"
     ]
    }
   ],
   "source": [
    "cd ~/Desktop/sph_shell_456/monitor"
   ]
  },
  {
   "cell_type": "markdown",
   "id": "cfddb19d-7ec3-42c4-bc4e-27fa2cbc6a48",
   "metadata": {},
   "source": [
    "Check if data file to be averaged is there"
   ]
  },
  {
   "cell_type": "code",
   "execution_count": 6,
   "id": "1de18ee9-1194-4c3d-993c-f199de724f66",
   "metadata": {
    "tags": []
   },
   "outputs": [
    {
     "name": "stdout",
     "output_type": "stream",
     "text": [
      "total 1764120\n",
      "-rw-r--r--  1 matsui  staff          0 Jun  8 19:40  Nusselt.dat\n",
      "-rw-rw-r--  1 matsui  staff     602115 May  9 02:30 Nusselt.dat\n",
      "-rw-r--r--@ 1 matsui  staff        970 Jun  9 09:38 control_sph_time_average\n",
      "-rw-r--r--  1 matsui  staff        155 Jun  8 19:51 control_sph_time_average~\n",
      "-rw-rw-r--  1 matsui  staff     441092 May  9 02:30 dipolarity.dat\n",
      "-rw-rw-r--  1 matsui  staff     819114 May  9 02:30 gauss_coefs_Re.dat\n",
      "-rw-rw-r--  1 matsui  staff    2849572 May  9 02:30 sph_ave_volume.dat\n",
      "-rw-rw-r--  1 matsui  staff  311136492 May  9 02:30 sph_pwr_layer_l.dat\n",
      "-rw-rw-r--  1 matsui  staff  311136500 May  9 02:30 sph_pwr_layer_lm.dat\n",
      "-rw-rw-r--  1 matsui  staff  311136491 May  9 02:30 sph_pwr_layer_m.dat\n",
      "-rw-rw-r--  1 matsui  staff    3129484 May  9 02:30 sph_pwr_layer_m0.dat\n",
      "-rw-rw-r--  1 matsui  staff    3129484 May  9 02:30 sph_pwr_layer_s.dat\n",
      "-rw-rw-r--  1 matsui  staff  284928582 May  9 02:30 sph_pwr_volume_l.dat\n",
      "-rw-rw-r--  1 matsui  staff  284928590 May  9 02:30 sph_pwr_volume_lm.dat\n",
      "-rw-rw-r--  1 matsui  staff  284928581 May  9 02:30 sph_pwr_volume_m.dat\n",
      "-rw-rw-r--  1 matsui  staff    2856572 May  9 02:30 sph_pwr_volume_m0.dat\n",
      "-rw-rw-r--  1 matsui  staff    2856572 May  9 02:30 sph_pwr_volume_s.dat\n",
      "drwxr-xr-x  6 matsui  staff        192 Jun  9 11:40 \u001b[34msummary\u001b[m\u001b[m/\n",
      "-rw-r--r--  1 matsui  staff       1014 Jun 10 11:49 t_ave_sph_ave_volume.dat\n",
      "-rw-r--r--  1 matsui  staff      48400 Jun  9 16:54 t_ave_sph_pwr_layer_l.dat\n",
      "-rw-r--r--  1 matsui  staff      48408 Jun 10 15:59 t_ave_sph_pwr_layer_lm.dat\n",
      "-rw-r--r--  1 matsui  staff      48399 Jun  9 16:54 t_ave_sph_pwr_layer_m.dat\n",
      "-rw-r--r--  1 matsui  staff        969 Jun  9 16:54 t_ave_sph_pwr_layer_m0.dat\n",
      "-rw-r--r--  1 matsui  staff        969 Jun 10 15:58 t_ave_sph_pwr_layer_s.dat\n",
      "-rw-r--r--  1 matsui  staff      44550 Jun  9 16:53 t_ave_sph_pwr_volume_l.dat\n",
      "-rw-r--r--@ 1 matsui  staff      44558 Jun 10 15:58 t_ave_sph_pwr_volume_lm.dat\n",
      "-rw-r--r--  1 matsui  staff      44549 Jun  9 16:53 t_ave_sph_pwr_volume_m.dat\n",
      "-rw-r--r--  1 matsui  staff       1014 Jun  9 16:53 t_ave_sph_pwr_volume_m0.dat\n",
      "-rw-r--r--  1 matsui  staff       1014 Jun 10 15:58 t_ave_sph_pwr_volume_s.dat\n",
      "-rw-r--r--  1 matsui  staff       1014 Jun 10 11:49 t_sigma_sph_ave_volume.dat\n",
      "-rw-r--r--  1 matsui  staff      48400 Jun  9 16:54 t_sigma_sph_pwr_layer_l.dat\n",
      "-rw-r--r--  1 matsui  staff      48408 Jun 10 15:59 t_sigma_sph_pwr_layer_lm.dat\n",
      "-rw-r--r--  1 matsui  staff      48399 Jun  9 16:54 t_sigma_sph_pwr_layer_m.dat\n",
      "-rw-r--r--  1 matsui  staff        969 Jun  9 16:54 t_sigma_sph_pwr_layer_m0.dat\n",
      "-rw-r--r--  1 matsui  staff        969 Jun 10 15:58 t_sigma_sph_pwr_layer_s.dat\n",
      "-rw-r--r--  1 matsui  staff      44550 Jun  9 16:53 t_sigma_sph_pwr_volume_l.dat\n",
      "-rw-r--r--@ 1 matsui  staff      44558 Jun 10 15:58 t_sigma_sph_pwr_volume_lm.dat\n",
      "-rw-r--r--  1 matsui  staff      44549 Jun  9 16:53 t_sigma_sph_pwr_volume_m.dat\n",
      "-rw-r--r--  1 matsui  staff       1014 Jun  9 16:53 t_sigma_sph_pwr_volume_m0.dat\n",
      "-rw-r--r--  1 matsui  staff       1014 Jun 10 15:58 t_sigma_sph_pwr_volume_s.dat\n",
      "-rw-r--r--  1 matsui  staff        749 Jun 12 20:49 tako.py\n",
      "-rw-rw-r--  1 matsui  staff     924074 May  9 02:30 typical_scale.dat\n"
     ]
    }
   ],
   "source": [
    "ls -l"
   ]
  },
  {
   "cell_type": "markdown",
   "id": "10fe933e-1b91-409d-a540-d697b6a9de3c",
   "metadata": {},
   "source": [
    "Set file prefix (excluding \".dat\") to be averaged as file_prefix, start time as start_time, and end time as end_time."
   ]
  },
  {
   "cell_type": "markdown",
   "id": "c1f91240-d02c-41e3-9b84-3f404e43b70b",
   "metadata": {
    "jp-MarkdownHeadingCollapsed": true,
    "tags": []
   },
   "source": [
    "## Set file prefix to read and check the data entities\n",
    "The file prefix is defined by [file_prefix]. The beginning part of the data file [file_prefix].dat is read and listed field or component names to be stored."
   ]
  },
  {
   "cell_type": "code",
   "execution_count": 7,
   "id": "7fc7eb3b-89a6-4829-a39e-0b7021af9b3d",
   "metadata": {},
   "outputs": [
    {
     "name": "stdout",
     "output_type": "stream",
     "text": [
      "           1 t_step\n",
      "           2 time\n",
      "           3 K_ene_pol\n",
      "           4 K_ene_tor\n"
     ]
    },
    {
     "data": {
      "text/plain": [
       "19"
      ]
     },
     "execution_count": 7,
     "metadata": {},
     "output_type": "execute_result"
    },
    {
     "name": "stdout",
     "output_type": "stream",
     "text": [
      "           5 K_ene\n",
      "           6 temperature\n",
      "           7 pressure\n",
      "           8 vorticity_pol\n",
      "           9 vorticity_tor\n",
      "          10 vorticity\n",
      "          11 M_ene_pol\n",
      "          12 M_ene_tor\n",
      "          13 M_ene\n",
      "          14 current_density_pol\n",
      "          15 current_density_tor\n",
      "          16 current_density\n",
      "          17 buoyancy_flux\n",
      "          18 Lorentz_work\n"
     ]
    }
   ],
   "source": [
    "file_prefix = \"sph_pwr_volume_s\"\n",
    "\n",
    "# Load time average and standard deviation\n",
    "flib.open_init_volume_mean_file_f.restype = c_void_p\n",
    "flib.open_init_volume_mean_file_f.argtypes = [c_char_p]\n",
    "\n",
    "flib.open_init_volume_mean_file_f(file_prefix.encode())"
   ]
  },
  {
   "cell_type": "markdown",
   "id": "cd8a557b-f736-424a-a331-9c6d87b6a0ad",
   "metadata": {
    "jp-MarkdownHeadingCollapsed": true,
    "tags": []
   },
   "source": [
    "## Select component names to be plotted\n",
    "A list of component names are defined in 'field_name'. \n",
    "Time and data to be plotted are loaded into array 'time' and 'series', respectively."
   ]
  },
  {
   "cell_type": "code",
   "execution_count": 9,
   "id": "8966aa92-9581-46bd-b23b-fe489eb447a3",
   "metadata": {},
   "outputs": [
    {
     "name": "stdout",
     "output_type": "stream",
     "text": [
      "['M_ene_pol', 'M_ene_tor', 'M_ene']\n",
      "0 M_ene_pol 9\n",
      "1 M_ene_tor 10\n",
      "2 M_ene 11\n",
      "!!Finish reading!!\n"
     ]
    },
    {
     "data": {
      "text/plain": [
       "1"
      ]
     },
     "execution_count": 9,
     "metadata": {},
     "output_type": "execute_result"
    }
   ],
   "source": [
    "# Set component name to be plotted\n",
    "field_name = [\"M_ene_pol\", \"M_ene_tor\", \"M_ene\"]\n",
    "\n",
    "n_comp = len(field_name)\n",
    "i_comp = np.zeros((n_comp), dtype=np.int32)\n",
    "\n",
    "# Find compoenent address to plot\n",
    "flib.find_monitor_field_address_f.restype = c_int\n",
    "flib.find_monitor_field_address_f.argtypes = [c_char_p]\n",
    "\n",
    "icou = 0\n",
    "for each_field in field_name:\n",
    "    i_comp[icou] = flib.find_monitor_field_address_f(each_field.encode())\n",
    "    print(icou, each_field, i_comp[icou])\n",
    "    icou = icou + 1\n",
    "\n",
    "# Read time series data to read\n",
    "i_step_in = np.zeros((1),dtype=np.int32)\n",
    "time_in = np.zeros((1),dtype=np.float64)\n",
    "series_in = np.zeros((n_comp),dtype=np.float64)\n",
    "\n",
    "i_step = np.zeros((0),dtype=np.int32)\n",
    "time =   np.zeros((0),dtype=np.float64)\n",
    "series = np.zeros((0),dtype=np.float64)\n",
    "\n",
    "# Find compoenent address to plot\n",
    "flib.load_one_volume_mean_item_f.restype = c_int\n",
    "flib.load_one_volume_mean_item_f.argtypes = [c_int, np.ctypeslib.ndpointer(dtype=np.int32), \n",
    "                                            np.ctypeslib.ndpointer(dtype=np.int32), \n",
    "                                            np.ctypeslib.ndpointer(dtype=np.float64),\n",
    "                                            np.ctypeslib.ndpointer(dtype=np.float64)]\n",
    "\n",
    "#  Load time series to the end\n",
    "while True:\n",
    "    iflag = flib.load_one_volume_mean_item_f(n_comp, i_comp, i_step_in, time_in, series_in)\n",
    "    if iflag > 0:\n",
    "        print('!!Finish reading!!')\n",
    "        break\n",
    "    i_step = np.append(i_step,i_step_in)\n",
    "    time =   np.append(time,  time_in)\n",
    "    series = np.append(series, series_in)\n",
    "#  Close data file\n",
    "flib.finalize_sph_series_file_f()"
   ]
  },
  {
   "cell_type": "markdown",
   "id": "65073fee-3d17-4baa-a9c8-23712e8eb5e6",
   "metadata": {
    "tags": []
   },
   "source": [
    "## Make a time evolution plot\n",
    "The each time series data are expanded into each_series, and plotted into the line plot.\n",
    "Please upgreade to more beautiful plot by yourself."
   ]
  },
  {
   "cell_type": "code",
   "execution_count": 11,
   "id": "50f3e9d4-ae5e-442c-b017-c2e6d7b3dac3",
   "metadata": {},
   "outputs": [
    {
     "data": {
      "image/png": "[encoded data removed]",
      "text/plain": [
       "<Figure size 432x288 with 1 Axes>"
      ]
     },
     "metadata": {
      "needs_background": "light"
     },
     "output_type": "display_data"
    }
   ],
   "source": [
    "n_series = len(time)\n",
    "icou = 0\n",
    "each_series = np.zeros((n_series),dtype=np.float64)\n",
    "for icou in range(n_comp):\n",
    "    for i in range(n_series):\n",
    "        each_series[i] = series[icou + i*n_comp]\n",
    "    plt.plot(time, each_series, label=field_name[icou])\n",
    "\n",
    "plt.xlabel('Time')\n",
    "plt.ylabel('Magnetic energy')\n",
    "legend = plt.legend(loc='upper right', shadow=True, fontsize='x-large')\n",
    "plt.show()"
   ]
  },
  {
   "cell_type": "code",
   "execution_count": null,
   "id": "f0a7004c-0da7-4cea-b339-d7cce4579efc",
   "metadata": {},
   "outputs": [],
   "source": []
  }
 ],
 "metadata": {
  "kernelspec": {
   "display_name": "Python 3 (ipykernel)",
   "language": "python",
   "name": "python3"
  },
  "language_info": {
   "codemirror_mode": {
    "name": "ipython",
    "version": 3
   },
   "file_extension": ".py",
   "mimetype": "text/x-python",
   "name": "python",
   "nbconvert_exporter": "python",
   "pygments_lexer": "ipython3",
   "version": "3.10.4"
  }
 },
 "nbformat": 4,
 "nbformat_minor": 5
}
