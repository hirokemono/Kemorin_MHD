{
 "cells": [
  {
   "cell_type": "markdown",
   "id": "a1178fbc-402b-408c-9fcb-ee09630f0a46",
   "metadata": {
    "tags": []
   },
   "source": [
    "# Notebook to generate time averaged spectr data file\n",
    "\n",
    "This note book generate time average and standard deviations from mean square data files. There are for types.\n",
    "1. Volume mean square and average\n",
    "2. Volume power spectra\n",
    "3. Layerd mean and average\n",
    "4. Layerd power spectra"
   ]
  },
  {
   "cell_type": "markdown",
   "id": "f8d1ab2e-a78f-4b41-af9c-3735859a3c69",
   "metadata": {
    "tags": []
   },
   "source": [
    "## Initial setup"
   ]
  },
  {
   "cell_type": "code",
   "execution_count": 1,
   "id": "ce4ed476-71b8-46c8-b361-9322410156c8",
   "metadata": {},
   "outputs": [],
   "source": [
    "import sys\n",
    "import numpy as np\n",
    "import ipywidgets as widgets\n",
    "from ctypes import *\n",
    "\n",
    "libname = \"libcalypso_to_pythons.so\""
   ]
  },
  {
   "cell_type": "markdown",
   "id": "983d2d25-e4c6-41e1-bff2-619135ff52ce",
   "metadata": {},
   "source": [
    "Move current directory to directory with data to be averaged"
   ]
  },
  {
   "cell_type": "code",
   "execution_count": 2,
   "id": "dd15c2fa-f5ad-4656-98e8-75a6cf3c0db1",
   "metadata": {},
   "outputs": [
    {
     "name": "stdout",
     "output_type": "stream",
     "text": [
      "/Volumes/Sources/matsui/Kemorin_MHD/pythons\n"
     ]
    }
   ],
   "source": [
    "%cd ./"
   ]
  },
  {
   "cell_type": "markdown",
   "id": "bee617e0-c612-4410-8f23-17b2b09cafd3",
   "metadata": {},
   "source": [
    "Check if shared libraly to load is there"
   ]
  },
  {
   "cell_type": "code",
   "execution_count": 3,
   "id": "0029b28e-1105-40ac-af0e-f211f9ed6944",
   "metadata": {
    "tags": []
   },
   "outputs": [
    {
     "name": "stdout",
     "output_type": "stream",
     "text": [
      "-rwxr-xr-x  1 matsui  staff  149061 Jun  9 16:55 \u001b[31mlibcalypso_to_pythons.so\u001b[m\u001b[m*\n"
     ]
    }
   ],
   "source": [
    "%ls -l \"libcalypso_to_pythons.so\""
   ]
  },
  {
   "cell_type": "markdown",
   "id": "1934d1e7-d5be-4147-820c-2efe4014a42f",
   "metadata": {},
   "source": [
    "Load dynamic library to run the program"
   ]
  },
  {
   "cell_type": "code",
   "execution_count": 4,
   "id": "03dbf930-019c-4a31-bc1e-4e01e7341970",
   "metadata": {},
   "outputs": [],
   "source": [
    "flib = cdll.LoadLibrary(\"libcalypso_to_pythons.so\")\n",
    "flib.time_ave_sdev_sph_volume_pwr_c.restype = c_int\n",
    "flib.time_ave_sdev_sph_volume_pwr_c.argtypes = [c_char_p, c_double, c_double]\n",
    "flib.time_ave_sph_vol_spectr_sdev_c.restype = c_int\n",
    "flib.time_ave_sph_vol_spectr_sdev_c.argtypes = [c_char_p, c_double, c_double]\n",
    "flib.time_ave_sph_layer_pwr_sdev_c.restype = c_int\n",
    "flib.time_ave_sph_layer_pwr_sdev_c.argtypes = [c_char_p, c_double, c_double]\n",
    "flib.time_ave_sph_layer_spec_sdev_c.restype = c_int\n",
    "flib.time_ave_sph_layer_spec_sdev_c.argtypes = [c_char_p, c_double, c_double]"
   ]
  },
  {
   "cell_type": "markdown",
   "id": "d801ff38-9af6-48fa-9111-42b3f758066c",
   "metadata": {
    "tags": []
   },
   "source": [
    "## Go to data directory"
   ]
  },
  {
   "cell_type": "markdown",
   "id": "7225df03-2f9a-4992-a08b-a08dfd209645",
   "metadata": {},
   "source": [
    "Move current directory to directory with data to be averaged"
   ]
  },
  {
   "cell_type": "code",
   "execution_count": 5,
   "id": "0f5eb804-6989-4ac3-9244-1bef3b892382",
   "metadata": {},
   "outputs": [
    {
     "name": "stdout",
     "output_type": "stream",
     "text": [
      "/Users/matsui/Desktop/sph_shell_456/monitor\n"
     ]
    }
   ],
   "source": [
    "cd ~/Desktop/sph_shell_456/monitor"
   ]
  },
  {
   "cell_type": "markdown",
   "id": "cfddb19d-7ec3-42c4-bc4e-27fa2cbc6a48",
   "metadata": {},
   "source": [
    "Check if data file to be averaged is there"
   ]
  },
  {
   "cell_type": "code",
   "execution_count": 6,
   "id": "1de18ee9-1194-4c3d-993c-f199de724f66",
   "metadata": {
    "tags": []
   },
   "outputs": [
    {
     "name": "stdout",
     "output_type": "stream",
     "text": [
      "total 1764116\n",
      "-rw-r--r--  1 matsui  staff          0 Jun  8 19:40  Nusselt.dat\n",
      "-rw-rw-r--  1 matsui  staff     602115 May  9 02:30 Nusselt.dat\n",
      "-rw-r--r--@ 1 matsui  staff        970 Jun  9 09:38 control_sph_time_average\n",
      "-rw-r--r--  1 matsui  staff        155 Jun  8 19:51 control_sph_time_average~\n",
      "-rw-rw-r--  1 matsui  staff     441092 May  9 02:30 dipolarity.dat\n",
      "-rw-rw-r--  1 matsui  staff     819114 May  9 02:30 gauss_coefs_Re.dat\n",
      "-rw-rw-r--  1 matsui  staff    2849572 May  9 02:30 sph_ave_volume.dat\n",
      "-rw-rw-r--  1 matsui  staff  311136492 May  9 02:30 sph_pwr_layer_l.dat\n",
      "-rw-rw-r--  1 matsui  staff  311136500 May  9 02:30 sph_pwr_layer_lm.dat\n",
      "-rw-rw-r--  1 matsui  staff  311136491 May  9 02:30 sph_pwr_layer_m.dat\n",
      "-rw-rw-r--  1 matsui  staff    3129484 May  9 02:30 sph_pwr_layer_m0.dat\n",
      "-rw-rw-r--  1 matsui  staff    3129484 May  9 02:30 sph_pwr_layer_s.dat\n",
      "-rw-rw-r--  1 matsui  staff  284928582 May  9 02:30 sph_pwr_volume_l.dat\n",
      "-rw-rw-r--  1 matsui  staff  284928590 May  9 02:30 sph_pwr_volume_lm.dat\n",
      "-rw-rw-r--  1 matsui  staff  284928581 May  9 02:30 sph_pwr_volume_m.dat\n",
      "-rw-rw-r--  1 matsui  staff    2856572 May  9 02:30 sph_pwr_volume_m0.dat\n",
      "-rw-rw-r--  1 matsui  staff    2856572 May  9 02:30 sph_pwr_volume_s.dat\n",
      "drwxr-xr-x  6 matsui  staff        192 Jun  9 11:40 \u001b[34msummary\u001b[m\u001b[m/\n",
      "-rw-r--r--  1 matsui  staff       1014 Jun  9 16:53 t_ave_sph_ave_volume.dat\n",
      "-rw-r--r--  1 matsui  staff      48400 Jun  9 16:54 t_ave_sph_pwr_layer_l.dat\n",
      "-rw-r--r--  1 matsui  staff      48408 Jun  9 16:54 t_ave_sph_pwr_layer_lm.dat\n",
      "-rw-r--r--  1 matsui  staff      48399 Jun  9 16:54 t_ave_sph_pwr_layer_m.dat\n",
      "-rw-r--r--  1 matsui  staff        969 Jun  9 16:54 t_ave_sph_pwr_layer_m0.dat\n",
      "-rw-r--r--  1 matsui  staff        969 Jun  9 16:54 t_ave_sph_pwr_layer_s.dat\n",
      "-rw-r--r--  1 matsui  staff      44550 Jun  9 16:53 t_ave_sph_pwr_volume_l.dat\n",
      "-rw-r--r--  1 matsui  staff      44558 Jun  9 16:54 t_ave_sph_pwr_volume_lm.dat\n",
      "-rw-r--r--  1 matsui  staff      44549 Jun  9 16:53 t_ave_sph_pwr_volume_m.dat\n",
      "-rw-r--r--  1 matsui  staff       1014 Jun  9 16:53 t_ave_sph_pwr_volume_m0.dat\n",
      "-rw-r--r--  1 matsui  staff       1014 Jun  9 16:54 t_ave_sph_pwr_volume_s.dat\n",
      "-rw-r--r--  1 matsui  staff       1014 Jun  9 16:53 t_sigma_sph_ave_volume.dat\n",
      "-rw-r--r--  1 matsui  staff      48400 Jun  9 16:54 t_sigma_sph_pwr_layer_l.dat\n",
      "-rw-r--r--  1 matsui  staff      48408 Jun  9 16:54 t_sigma_sph_pwr_layer_lm.dat\n",
      "-rw-r--r--  1 matsui  staff      48399 Jun  9 16:54 t_sigma_sph_pwr_layer_m.dat\n",
      "-rw-r--r--  1 matsui  staff        969 Jun  9 16:54 t_sigma_sph_pwr_layer_m0.dat\n",
      "-rw-r--r--  1 matsui  staff        969 Jun  9 16:54 t_sigma_sph_pwr_layer_s.dat\n",
      "-rw-r--r--  1 matsui  staff      44550 Jun  9 16:53 t_sigma_sph_pwr_volume_l.dat\n",
      "-rw-r--r--  1 matsui  staff      44558 Jun  9 16:54 t_sigma_sph_pwr_volume_lm.dat\n",
      "-rw-r--r--  1 matsui  staff      44549 Jun  9 16:53 t_sigma_sph_pwr_volume_m.dat\n",
      "-rw-r--r--  1 matsui  staff       1014 Jun  9 16:53 t_sigma_sph_pwr_volume_m0.dat\n",
      "-rw-r--r--  1 matsui  staff       1014 Jun  9 16:54 t_sigma_sph_pwr_volume_s.dat\n",
      "-rw-rw-r--  1 matsui  staff     924074 May  9 02:30 typical_scale.dat\n"
     ]
    }
   ],
   "source": [
    "ls -l"
   ]
  },
  {
   "cell_type": "markdown",
   "id": "4997d8c5-1140-4daa-87ed-e45a76682084",
   "metadata": {
    "tags": []
   },
   "source": [
    "## Time averaging for volume mean square and average\n",
    "\n",
    "The folowing moniter data files can be treated in this block\n",
    "1. Volume average data [vol_ave_prefix].dat\n",
    "2. Volume mean square data [vol_pwr_prefix]_s.dat\n",
    "3. Volume mean square data for axissymmetric component [vol_pwr_prefix]_m0.dat\n",
    "4. Typical scale data [typical scale prefix].dat\n"
   ]
  },
  {
   "cell_type": "markdown",
   "id": "10fe933e-1b91-409d-a540-d697b6a9de3c",
   "metadata": {},
   "source": [
    "Set file prefix (excluding \".dat\") to be averaged as file_prefix, start time as start_time, and end time as end_time."
   ]
  },
  {
   "cell_type": "code",
   "execution_count": 9,
   "id": "d268c995-3401-46f0-a1ea-7267ccef88c3",
   "metadata": {
    "tags": []
   },
   "outputs": [],
   "source": [
    "file_prefix = \"sph_ave_volume\"\n",
    "start_time = 5.0\n",
    "end_time =  12.0"
   ]
  },
  {
   "cell_type": "markdown",
   "id": "40ec9e22-e8b3-4a15-9828-44339526bd5a",
   "metadata": {},
   "source": [
    "Start time average program for volume averaged data. \n",
    "time average data will be \"t_ave_[file_prefix].dat\",\n",
    "and standard deviation will be \"t_sdev_[file_prefix].dat\"."
   ]
  },
  {
   "cell_type": "code",
   "execution_count": 10,
   "id": "6bd4b87e-c381-427f-a5ff-40099798cc00",
   "metadata": {},
   "outputs": [
    {
     "name": "stdout",
     "output_type": "stream",
     "text": [
      " Open file sph_ave_volume.dat\n",
      "           1 t_step\n",
      "           2 time\n",
      "           3 K_ene_pol\n",
      "           4 K_ene_tor\n",
      "           5 K_ene\n",
      "           6 temperature\n",
      "           7 pressure\n",
      "           8 vorticity_pol\n",
      "           9 vorticity_tor\n",
      "          10 vorticity\n",
      "          11 M_ene_pol\n",
      "          12 M_ene_tor\n",
      "          13 M_ene\n",
      "          14 current_density_pol\n",
      "          15 current_density_tor\n",
      "          16 current_density\n",
      "          17 buoyancy_flux\n",
      "          18 Lorentz_work\n",
      "\n",
      " Open file sph_ave_volume.dat again\n",
      "\n",
      "Start and end time:        5.001999999979800E+000   1.200199999971480E+001\n",
      " Time_average, standard_deviation, field_name\n",
      " 0.000000000000000E+000 0.000000000000000E+000    K_ene_pol\n",
      " 0.000000000000000E+000 0.000000000000000E+000    K_ene_tor\n",
      " 0.000000000000000E+000 0.000000000000000E+000    K_ene\n",
      " 1.373834530505008E-001 2.432155419959122E-003    temperature\n",
      " 2.096553986933392E+000 1.885901838486531E-001    pressure\n",
      " 0.000000000000000E+000 0.000000000000000E+000    vorticity_pol\n",
      " 0.000000000000000E+000 0.000000000000000E+000    vorticity_tor\n",
      " 0.000000000000000E+000 0.000000000000000E+000    vorticity\n",
      " 0.000000000000000E+000 0.000000000000000E+000    M_ene_pol\n",
      " 0.000000000000000E+000 0.000000000000000E+000    M_ene_tor\n",
      " 0.000000000000000E+000 0.000000000000000E+000    M_ene\n",
      " 0.000000000000000E+000 0.000000000000000E+000    current_density_pol\n",
      " 0.000000000000000E+000 0.000000000000000E+000    current_density_tor\n",
      " 0.000000000000000E+000 0.000000000000000E+000    current_density\n",
      " 1.067049377272905E+005 1.555206349636548E+004    buoyancy_flux\n",
      "-4.739824443690453E+001 3.115251930591715E+001    Lorentz_work\n"
     ]
    }
   ],
   "source": [
    "n = flib.time_ave_sdev_sph_volume_pwr_c(file_prefix.encode(), c_double(start_time), c_double(end_time))"
   ]
  },
  {
   "cell_type": "markdown",
   "id": "c033a56f-247e-4ce5-97d8-c10302062677",
   "metadata": {
    "jp-MarkdownHeadingCollapsed": true,
    "tags": []
   },
   "source": [
    "## Time averaging for volume power spectra\n",
    "\n",
    "The folowing moniter data files can be treated in this block\n",
    "1. Volume power specta data [vol_pwr_prefix]_l.dat, [vol_pwr_prefix]_l.dat, [vol_pwr_prefix]_lm.dat\n",
    "2. Volume average data [vol_ave_prefix].dat\n"
   ]
  },
  {
   "cell_type": "markdown",
   "id": "1a86151d-1463-4cbc-a180-19646b877061",
   "metadata": {},
   "source": [
    "Set file prefix (excluding \".dat\") to be averaged as file_prefix, start time as start_time, and end time as end_time."
   ]
  },
  {
   "cell_type": "code",
   "execution_count": 10,
   "id": "1c631478-24aa-4367-878c-64049ec19dfb",
   "metadata": {
    "tags": []
   },
   "outputs": [],
   "source": [
    "file_prefix = \"sph_pwr_volume_lm\"\n",
    "start_time = 5.0\n",
    "end_time =  12.0"
   ]
  },
  {
   "cell_type": "markdown",
   "id": "301dd283-672b-4435-92e7-763bc7e6efdd",
   "metadata": {},
   "source": [
    "Start time average program for volume spectrum data. \n",
    "time average data will be \"t_ave_[file_prefix].dat\",\n",
    "and standard deviation will be \"t_sdev_[file_prefix].dat\"."
   ]
  },
  {
   "cell_type": "code",
   "execution_count": null,
   "id": "04447abf-5e28-498e-97bb-2447e7d71d66",
   "metadata": {},
   "outputs": [],
   "source": [
    "n = flib.time_ave_sph_vol_spectr_sdev_c(file_prefix.encode(), c_double(start_time), c_double(end_time))"
   ]
  },
  {
   "cell_type": "markdown",
   "id": "56b6c096-1a72-4ad8-a90c-ef94f95da822",
   "metadata": {
    "jp-MarkdownHeadingCollapsed": true,
    "tags": []
   },
   "source": [
    "## Time averaging for layerd mean square and average\n",
    "\n",
    "The folowing moniter data files can be treated in this block\n",
    "1. Layerd mean square data [layer pwr prefix]_s.dat\n",
    "2. Layerd mean square data for axissymmetric component [layer pwr prefix]_m0.dat"
   ]
  },
  {
   "cell_type": "markdown",
   "id": "d5f3f41d-c53d-4e0d-80d4-ee79951fb744",
   "metadata": {},
   "source": [
    "Set file prefix (excluding \".dat\") to be averaged as file_prefix, start time as start_time, and end time as end_time."
   ]
  },
  {
   "cell_type": "code",
   "execution_count": 6,
   "id": "1f9dcb9e-9794-4661-9398-d2125df0c0e0",
   "metadata": {
    "tags": []
   },
   "outputs": [],
   "source": [
    "file_prefix = \"sph_pwr_layer_s\"\n",
    "start_time = 5.0\n",
    "end_time =  12.0"
   ]
  },
  {
   "cell_type": "markdown",
   "id": "b47db1d3-2dfd-4757-92d1-8ed0428a6b88",
   "metadata": {},
   "source": [
    "Start time average program for volume spectrum data. \n",
    "time average data will be \"t_ave_[file_prefix].dat\",\n",
    "and standard deviation will be \"t_sdev_[file_prefix].dat\"."
   ]
  },
  {
   "cell_type": "code",
   "execution_count": 7,
   "id": "cf49cb85-427f-40e2-ac77-b848f4d81d32",
   "metadata": {},
   "outputs": [
    {
     "name": "stdout",
     "output_type": "stream",
     "text": [
      " Open file sph_pwr_layer_s.dat\n",
      " Column_Index, data_name\n",
      "           1 t_step\n",
      "           2 time\n",
      "           3 radial_id\n",
      "           4 radius\n",
      "           5 K_ene_pol\n",
      "           6 K_ene_tor\n",
      "           7 K_ene\n",
      "           8 temperature\n",
      "           9 pressure\n",
      "          10 vorticity_pol\n",
      "          11 vorticity_tor\n",
      "          12 vorticity\n",
      "          13 M_ene_pol\n",
      "          14 M_ene_tor\n",
      "          15 M_ene\n",
      "          16 current_density_pol\n",
      "          17 current_density_tor\n",
      "          18 current_density\n",
      "          19 buoyancy_flux\n",
      "          20 Lorentz_work\n",
      "\n",
      " Open file sph_pwr_layer_s.dat again\n",
      "\n"
     ]
    }
   ],
   "source": [
    "n = flib.time_ave_sph_layer_pwr_sdev_c(file_prefix.encode(), c_double(start_time), c_double(end_time))"
   ]
  },
  {
   "cell_type": "markdown",
   "id": "a069a3a7-4397-48d8-accc-c3bb2b803e8f",
   "metadata": {
    "jp-MarkdownHeadingCollapsed": true,
    "tags": []
   },
   "source": [
    "## Time averaging for layerd power spectra\n",
    "\n",
    "\n",
    "The folowing moniter data files can be treated in this block\n",
    "1. Layerd power specta data [layer pwr prefix]_l.dat, [layer pwr prefix]_l.dat, [layer pwr prefix]_lm.dat\n"
   ]
  },
  {
   "cell_type": "markdown",
   "id": "60e96aa8-decd-4673-85c3-bdbf15f03096",
   "metadata": {},
   "source": [
    "Set file prefix (excluding \".dat\") to be averaged as file_prefix, start time as start_time, and end time as end_time."
   ]
  },
  {
   "cell_type": "code",
   "execution_count": 8,
   "id": "a8d4b61a-0c9a-42e1-a5c8-99a4ad968d0d",
   "metadata": {
    "tags": []
   },
   "outputs": [],
   "source": [
    "file_prefix = \"sph_pwr_layer_lm\"\n",
    "start_time = 5.0\n",
    "end_time =  12.0"
   ]
  },
  {
   "cell_type": "markdown",
   "id": "d7640ab9-79d3-45e9-98c4-2763d080279b",
   "metadata": {},
   "source": [
    "Start time average program for volume spectrum data. \n",
    "time average data will be \"t_ave_[file_prefix].dat\",\n",
    "and standard deviation will be \"t_sdev_[file_prefix].dat\"."
   ]
  },
  {
   "cell_type": "code",
   "execution_count": null,
   "id": "898d6ffb-4532-4b6e-9ac3-e8145ee22c9a",
   "metadata": {},
   "outputs": [],
   "source": [
    "n = flib.time_ave_sph_layer_spec_sdev_c(file_prefix.encode(), c_double(start_time), c_double(end_time))"
   ]
  },
  {
   "cell_type": "markdown",
   "id": "c8228692-4116-4716-91a5-c06d96ac66b3",
   "metadata": {
    "tags": []
   },
   "source": [
    "## Check time average data (Optional)"
   ]
  },
  {
   "cell_type": "code",
   "execution_count": 11,
   "id": "1b3e84bf-0ef8-49e5-943d-6ea9f63f0c54",
   "metadata": {},
   "outputs": [
    {
     "name": "stdout",
     "output_type": "stream",
     "text": [
      "radial_layers, truncation\n",
      "               1              95\n",
      "ICB_id, CMB_id\n",
      "               1              96\n",
      "Lower boudary\n",
      "               1  3.33333333333333E-001\n",
      "Upper boundary\n",
      "              96  1.33333333333333E+000\n",
      "number of components\n",
      "               8              16\n",
      "    3    1    1    3    3    3    1    1\n",
      "t_step    time    K_ene_pol    K_ene_tor    K_ene    temperature    pressure    vorticity_pol    vorticity_tor    vorticity    M_ene_pol    M_ene_tor    M_ene    current_density_pol    current_density_tor    current_density    buoyancy_flux    Lorentz_work    \n",
      "         1200200   1.200199999971480E+001   0.000000000000000E+000   0.000000000000000E+000   0.000000000000000E+000   1.373834530505008E-001   2.096553986933392E+000   0.000000000000000E+000   0.000000000000000E+000   0.000000000000000E+000   0.000000000000000E+000   0.000000000000000E+000   0.000000000000000E+000   0.000000000000000E+000   0.000000000000000E+000   0.000000000000000E+000   1.067049377272905E+005  -4.739824443690453E+001\n",
      "\n"
     ]
    }
   ],
   "source": [
    "average_file = \"t_ave_\" + file_prefix + \".dat\"\n",
    "f = open(average_file, 'r', encoding='UTF-8')\n",
    "data = f.read()\n",
    "print(data)\n",
    "f.close()"
   ]
  },
  {
   "cell_type": "markdown",
   "id": "bad30e5c-953a-424c-853f-f41b4153fd68",
   "metadata": {},
   "source": [
    "Check standard deviation data (Optional)"
   ]
  },
  {
   "cell_type": "code",
   "execution_count": 12,
   "id": "d8bd59b2-5024-474b-8710-258140845bcd",
   "metadata": {},
   "outputs": [
    {
     "name": "stdout",
     "output_type": "stream",
     "text": [
      "radial_layers, truncation\n",
      "               1              95\n",
      "ICB_id, CMB_id\n",
      "               1              96\n",
      "Lower boudary\n",
      "               1  3.33333333333333E-001\n",
      "Upper boundary\n",
      "              96  1.33333333333333E+000\n",
      "number of components\n",
      "               8              16\n",
      "    3    1    1    3    3    3    1    1\n",
      "t_step    time    K_ene_pol    K_ene_tor    K_ene    temperature    pressure    vorticity_pol    vorticity_tor    vorticity    M_ene_pol    M_ene_tor    M_ene    current_density_pol    current_density_tor    current_density    buoyancy_flux    Lorentz_work    \n",
      "         1200200   1.200199999971480E+001   0.000000000000000E+000   0.000000000000000E+000   0.000000000000000E+000   2.432155419959122E-003   1.885901838486531E-001   0.000000000000000E+000   0.000000000000000E+000   0.000000000000000E+000   0.000000000000000E+000   0.000000000000000E+000   0.000000000000000E+000   0.000000000000000E+000   0.000000000000000E+000   0.000000000000000E+000   1.555206349636548E+004   3.115251930591715E+001\n",
      "\n"
     ]
    }
   ],
   "source": [
    "average_file = \"t_sigma_\" + file_prefix + \".dat\"\n",
    "f = open(average_file, 'r', encoding='UTF-8')\n",
    "data = f.read()\n",
    "print(data)\n",
    "f.close()"
   ]
  },
  {
   "cell_type": "code",
   "execution_count": null,
   "id": "f5174442-a44e-4a96-9041-890b1633cdc5",
   "metadata": {},
   "outputs": [],
   "source": []
  },
  {
   "cell_type": "code",
   "execution_count": null,
   "id": "7049a5ef-817e-4b34-afe1-1cd0ac780004",
   "metadata": {},
   "outputs": [],
   "source": []
  }
 ],
 "metadata": {
  "kernelspec": {
   "display_name": "Python 3 (ipykernel)",
   "language": "python",
   "name": "python3"
  },
  "language_info": {
   "codemirror_mode": {
    "name": "ipython",
    "version": 3
   },
   "file_extension": ".py",
   "mimetype": "text/x-python",
   "name": "python",
   "nbconvert_exporter": "python",
   "pygments_lexer": "ipython3",
   "version": "3.10.4"
  }
 },
 "nbformat": 4,
 "nbformat_minor": 5
}
